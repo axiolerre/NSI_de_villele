{
 "cells": [
  {
   "cell_type": "markdown",
   "metadata": {},
   "source": [
    "# II.1 : fonctions passées en argument"
   ]
  },
  {
   "cell_type": "code",
   "execution_count": null,
   "metadata": {},
   "outputs": [],
   "source": [
    "ma_table = [(\"Ahmed\", 8, \"Blois\"), (\"Jane\", 7, \"Aix\"), (\"Zoé\", 10, \"Alès\")]\n",
    "table_triee = sorted(ma_table)\n",
    "table_triee"
   ]
  },
  {
   "cell_type": "code",
   "execution_count": null,
   "metadata": {},
   "outputs": [],
   "source": [
    "def clef_de_tri(triplet):\n",
    "    '''Renvoie la longueur de triplet[2] (triplet[2] de type str).'''\n",
    "    return len(triplet[2])"
   ]
  },
  {
   "cell_type": "code",
   "execution_count": null,
   "metadata": {},
   "outputs": [],
   "source": [
    "table_triee = sorted(ma_table, key = clef_de_tri)\n",
    "table_triee"
   ]
  },
  {
   "cell_type": "markdown",
   "metadata": {},
   "source": [
    "# fonctions renvoyées par des fonctions"
   ]
  },
  {
   "cell_type": "code",
   "execution_count": null,
   "metadata": {},
   "outputs": [],
   "source": [
    "def pair(n):\n",
    "    return n%2 == 0"
   ]
  },
  {
   "cell_type": "code",
   "execution_count": null,
   "metadata": {},
   "outputs": [],
   "source": [
    "def contraire(f):\n",
    "    '''\n",
    "    f est une fonction booléenne ayant un seul paramètre.\n",
    "    contraire renvoie une fonction g à un seul paramètre telle que :\n",
    "    - si f(x) est True alors g(x) est False\n",
    "    - si f(x) est False alors g(x) est True\n",
    "    '''\n",
    "    def g(x):\n",
    "        return not f(x)\n",
    "    \n",
    "    return g"
   ]
  },
  {
   "cell_type": "code",
   "execution_count": null,
   "metadata": {},
   "outputs": [],
   "source": [
    "pair(44)"
   ]
  },
  {
   "cell_type": "code",
   "execution_count": null,
   "metadata": {},
   "outputs": [],
   "source": [
    "impair = contraire(pair)\n",
    "impair(45)"
   ]
  },
  {
   "cell_type": "code",
   "execution_count": null,
   "metadata": {},
   "outputs": [],
   "source": [
    "impair(44)"
   ]
  },
  {
   "cell_type": "code",
   "execution_count": null,
   "metadata": {},
   "outputs": [],
   "source": [
    "def anagramme(texte_a, texte_b):\n",
    "    '''Renvoie True si texte_a et texte_b (de type str) donnent une anagramme'''\n",
    "    texte_a_trie = sorted(texte_a)\n",
    "    texte_b_trie = sorted(texte_b)\n",
    "    return texte_a_trie == texte_b_trie\n",
    "\n",
    "def palindrome(texte):\n",
    "    '''Renvoie True si texte (de type str) est un palindrome'''\n",
    "    texte_inverse = texte[::-1]\n",
    "    return texte == texte_inverse"
   ]
  },
  {
   "cell_type": "markdown",
   "metadata": {},
   "source": [
    "# les fonctions sont stockables dans des SDD"
   ]
  },
  {
   "cell_type": "code",
   "execution_count": null,
   "metadata": {},
   "outputs": [],
   "source": [
    "def fois_deux(n):\n",
    "    return 2 * n\n",
    "\n",
    "def plus_quatre(n):\n",
    "    return n + 4\n",
    "\n",
    "def moins_sept(n):\n",
    "    return n - 7\n",
    "\n",
    "def transformer_lourd(n):\n",
    "    if n%3 == 0:\n",
    "        return fois_deux(n)\n",
    "    elif n%3 == 1:\n",
    "        return plus_quatre(n)\n",
    "    else:\n",
    "        return moins_sept(n)"
   ]
  },
  {
   "cell_type": "code",
   "execution_count": null,
   "metadata": {},
   "outputs": [],
   "source": [
    "transformer(10)"
   ]
  },
  {
   "cell_type": "code",
   "execution_count": null,
   "metadata": {},
   "outputs": [],
   "source": [
    "def transformer_elegant(n):\n",
    "    tab = [fois_deux, plus_quatre, moins_sept]\n",
    "    return tab[n%3](n)"
   ]
  },
  {
   "cell_type": "code",
   "execution_count": null,
   "metadata": {},
   "outputs": [],
   "source": [
    "transformer_bis(10)"
   ]
  },
  {
   "cell_type": "markdown",
   "metadata": {},
   "source": [
    "# Structures de données immuables"
   ]
  },
  {
   "cell_type": "code",
   "execution_count": null,
   "metadata": {},
   "outputs": [],
   "source": [
    "puplet = tuple('O' for i in range(50))\n",
    "puplet = tuple(puplet[i] if i != 42 else 'X' for i in range(len(puplet)))"
   ]
  },
  {
   "cell_type": "markdown",
   "metadata": {},
   "source": [
    "#### Trier un tableau sans le muter"
   ]
  },
  {
   "cell_type": "code",
   "execution_count": null,
   "metadata": {},
   "outputs": [],
   "source": [
    "tab = [13, 4, 9, 21, 19]\n",
    "tab_trie = sorted(tab)\n",
    "tab"
   ]
  },
  {
   "cell_type": "code",
   "execution_count": null,
   "metadata": {},
   "outputs": [],
   "source": [
    "tab_trie"
   ]
  },
  {
   "cell_type": "markdown",
   "metadata": {},
   "source": [
    "#### Trier un tableau en le mutant"
   ]
  },
  {
   "cell_type": "code",
   "execution_count": null,
   "metadata": {},
   "outputs": [],
   "source": [
    "tab = [13, 4, 9, 21, 19]\n",
    "tab.sort()\n",
    "tab"
   ]
  },
  {
   "cell_type": "code",
   "execution_count": null,
   "metadata": {},
   "outputs": [],
   "source": [
    "tab = [13, 4, 9, 21, 19]\n",
    "tab = sorted(tab)\n",
    "tab"
   ]
  },
  {
   "cell_type": "code",
   "execution_count": null,
   "metadata": {},
   "outputs": [],
   "source": [
    "'cacahuète'.replace('e', '')"
   ]
  },
  {
   "cell_type": "markdown",
   "metadata": {},
   "source": [
    "#### Viser les ronds : version avec mutation de `tab`"
   ]
  },
  {
   "cell_type": "code",
   "execution_count": null,
   "metadata": {},
   "outputs": [],
   "source": [
    "tab = ['O', 'O', 'O', 'O', 'O', 'O', 'O']\n",
    "\n",
    "def vise_les_ronds(k):\n",
    "    '''\n",
    "    k est un entier entre 0 et 6\n",
    "    La fonction :\n",
    "    - renvoie 1 si tab[k] == 'O' ou renvoie 0 si tab[k] == 'X'\n",
    "    - mute tab si tab[k] == 'O' en affectant 'X' à tab[k]\n",
    "    '''\n",
    "    if tab[k] == 'O':\n",
    "        tab[k] = 'X'\n",
    "        return 1\n",
    "    else :\n",
    "        return 0"
   ]
  },
  {
   "cell_type": "code",
   "execution_count": null,
   "metadata": {},
   "outputs": [],
   "source": [
    "score = vise_les_ronds(2)\n",
    "score, tab"
   ]
  },
  {
   "cell_type": "code",
   "execution_count": null,
   "metadata": {},
   "outputs": [],
   "source": [
    "score = vise_les_ronds(4)\n",
    "score, tab"
   ]
  },
  {
   "cell_type": "code",
   "execution_count": null,
   "metadata": {},
   "outputs": [],
   "source": [
    "score = vise_les_ronds(2)\n",
    "score, tab"
   ]
  },
  {
   "cell_type": "markdown",
   "metadata": {},
   "source": [
    "#### Viser les ronds : version sans mutation de `tab`"
   ]
  },
  {
   "cell_type": "code",
   "execution_count": null,
   "metadata": {},
   "outputs": [],
   "source": [
    "tab = ['O', 'O', 'O', 'O', 'O', 'O', 'O']\n",
    "\n",
    "def vise_les_ronds_2(tab, k):\n",
    "    '''\n",
    "    k est un entier entre 0 et 6\n",
    "    La fonction un coule s, tab_2  avec :\n",
    "    - s = 1 si L[k] == 'O' ou s = 0 si tab[k] == 'X'\n",
    "    - tab_2 copie de tab avec tab_2[k] remplacé, le cas échéant, par 'X'\n",
    "    '''\n",
    "    tab_2 = tab.copy()\n",
    "    if tab[k] == 'O':\n",
    "        tab_2[k] = 'X'\n",
    "        return 1, tab_2\n",
    "    else :\n",
    "        return 0, tab_2"
   ]
  },
  {
   "cell_type": "code",
   "execution_count": null,
   "metadata": {},
   "outputs": [],
   "source": [
    "tab = ['O', 'O', 'O', 'O', 'O', 'O', 'O']\n",
    "score_tir_1, tab = vise_les_ronds_2(tab, 5) \n",
    "score_tir_2, tab = vise_les_ronds_2(tab, 5)\n",
    "score_tir_1, score_tir_2"
   ]
  }
 ],
 "metadata": {
  "kernelspec": {
   "display_name": "Python 3",
   "language": "python",
   "name": "python3"
  },
  "language_info": {
   "codemirror_mode": {
    "name": "ipython",
    "version": 3
   },
   "file_extension": ".py",
   "mimetype": "text/x-python",
   "name": "python",
   "nbconvert_exporter": "python",
   "pygments_lexer": "ipython3",
   "version": "3.8.2"
  }
 },
 "nbformat": 4,
 "nbformat_minor": 4
}
