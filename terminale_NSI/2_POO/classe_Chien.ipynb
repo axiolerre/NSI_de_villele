{
 "cells": [
  {
   "cell_type": "markdown",
   "metadata": {},
   "source": [
    "# Les objets comme ensemble d'attributs\n",
    "\n",
    "Avant de commencer de parler de création d'objets il faut fixer rapidement un peu de vocabulaire.\n",
    "\n",
    "Prenons l'exemple d'un programmeur qui souhaite utiliser des objets \"chien\" disposant chacun d'un nom, d'un aboiement et d'un niveau de santé (de 0 à 10). Bien sûr, un chien n'est pas un objet mais dans la suite ce le sera dans le sens de la programmation orienté objet.\n",
    "\n",
    "Il lui faut distinguer la **classe** **C**hien (qui peut être vue métaphoriquement comme le *modèle* des futurs chiens) des **instances** de chiens qui sont eux les différents chiens qui seront créés selon ce même modèle.\n",
    "\n",
    "Dans un premier temps, considérons l'exemple ci-dessous où la classe **C**hien a été créée sans qu'il y ait pour l'instant besoin de voir précisément son code.\n"
   ]
  },
  {
   "cell_type": "code",
   "execution_count": null,
   "metadata": {
    "scrolled": true
   },
   "outputs": [],
   "source": [
    "from classe_Chien import *\n",
    "\n",
    "chienA = Chien('Medor', 'Wouf', 9)\n",
    "chienB = Chien('Kiki', 'Wif-Wif', 6)"
   ]
  },
  {
   "cell_type": "markdown",
   "metadata": {},
   "source": [
    "On a ici demandé à la classe **C**hien (avec, par convention, un **C** majuscule) de créer deux instances de chiens : `chienA` et `chienB`.\n",
    "Ces deux instances sont bien créées avec trois *attributs* : <code>nom</code>, <code>aboiement</code> et <code>sante</code> dont les valeurs sont passées en argument à la classe **C**hien lors de leur création. La classe **C**hien dispose d'un *constructeur* qui permet de créer un chien tout en instanciant ses trois attributs.\n",
    "\n",
    "On peut alors demander à ces deux instances de chiens la valeur de leurs attributs :"
   ]
  },
  {
   "cell_type": "code",
   "execution_count": null,
   "metadata": {},
   "outputs": [],
   "source": [
    "print(chienA.nom)\n",
    "print(chienB.aboiement)\n",
    "print(chienB.sante)"
   ]
  },
  {
   "cell_type": "markdown",
   "metadata": {},
   "source": [
    "Si besoin, nous pouvons également modifier la valeur des attributs:"
   ]
  },
  {
   "cell_type": "code",
   "execution_count": null,
   "metadata": {},
   "outputs": [],
   "source": [
    "chienA.sante = 7\n",
    "print(chienA.sante)"
   ]
  },
  {
   "cell_type": "markdown",
   "metadata": {},
   "source": [
    "La première vision qu'on peut avoir d'une classe est donc la suivante : c'est un modèle d'instances ayant toutes les mêmes attributs, aux noms intelligibles ;), que le programmeur peut choisir et créer selon sa convenance. Il peut ensuite accéder aux valeurs des attributs de façon très simple grâce au point <code> . </code> : <code>*instance.attribut*</code>."
   ]
  },
  {
   "cell_type": "markdown",
   "metadata": {},
   "source": [
    "# Les objets possèdent aussi des méthodes"
   ]
  },
  {
   "cell_type": "markdown",
   "metadata": {},
   "source": [
    "Tout ce qui précède est bien joli mais en informatique il y a les données et les traitements effectués sur ces données.\n",
    "Les attributs des instances vus précédemment correspondent à une façon élégante et bien pratique de stocker des données.\n",
    "\n",
    "Néanmoins cela ne suffit pas : un programmeur aura nécessairement besoin que ces objets puissent effectuer des traitements, des actions. Autrement dit il aura besoin que les objets qu'il définit disposent de méthodes.\n",
    "\n",
    "Pour illustrer ce propos les instances de la classe chien disposent de quatre méthodes : machouiller(), mordre(), aboyer() et manger() :"
   ]
  },
  {
   "cell_type": "code",
   "execution_count": null,
   "metadata": {},
   "outputs": [],
   "source": [
    "chienA.machouiller('JOURNAL') # fonctionne aussi avec 'CHAUSSON'"
   ]
  },
  {
   "cell_type": "code",
   "execution_count": null,
   "metadata": {},
   "outputs": [],
   "source": [
    "print(chienB.sante)\n",
    "chienA.mordre(chienB)   # lorsqu'un chien est mordu par un autre \n",
    "print(chienB.sante)     # sa santé s'affaiblit"
   ]
  },
  {
   "cell_type": "code",
   "execution_count": null,
   "metadata": {},
   "outputs": [],
   "source": [
    "print(chienA.aboyer())\n",
    "print(chienB.aboyer())"
   ]
  },
  {
   "cell_type": "code",
   "execution_count": null,
   "metadata": {},
   "outputs": [],
   "source": [
    "print(chienB.sante)\n",
    "chienB.manger()         #lorsqu'un chien mange, sa santé s'améliore\n",
    "print(chienB.sante)"
   ]
  },
  {
   "cell_type": "markdown",
   "metadata": {},
   "source": [
    "On voit donc qu'une instance de la classe chien peut offrir des fonctionnalités comme les fonctions Python traditionnelles : c'est le cas de la méthode <code>machouiller()</code> qui mélange la chaîne de caractères passée en argument ou de la méthode <code>mordre()</code> qui agit sur l'instance <code>chien</code> qui lui est passée en argument en diminuant son attribut <code>sante</code> de 1.\n",
    "\n",
    "En revanche les méthodes <code>aboyer()</code> et <code>manger()</code> sont un peu plus originales puisqu'elles agissent sur l'instance elle même (<code>aboyer()</code> lit l'attribut <code>aboiement</code> et <code>manger</code> lit/modifie l'attribut <code>sante</code>) sans qu'on leur ait passé d'argument. C'est possible grâce à un mécanisme qui peut paraître déroutant au début.\n",
    "\n",
    "En effet lorsqu'une méthode d'instance est appelée, *on lui passe systématiquement en argument de façon transparente l'instance elle-même. Ainsi la méthode peut agir sur l'instance qui l'a appelée.* En quelque sorte, lorsqu'on fait :\n",
    "\n",
    "<code>chienB.manger()</code>\n",
    "\n",
    "de façon invisible on fait :\n",
    "\n",
    "<code>manger(chienB)</code>\n",
    "\n",
    "Cet argument passé de façon transparente est quasiment universellement dénommé *self* (c'est le <code>self</code> de myself = moi-même = celui qui appele la méthode) dans les définitions de la classe. **Ainsi dans les définitions de méthodes <code>self</code> désigne l'instance qui appelle la méthode. La variable <code>self</code> est obligatoire en premier argument dans les en-têtes des méthodes mais ne doit pas être mentionné lors des appels !**\n",
    "\n",
    "Il est maintenant temps de voir le code de la classe **C**hien."
   ]
  },
  {
   "cell_type": "markdown",
   "metadata": {},
   "source": [
    "```python\n",
    "import random\n",
    "\n",
    "class Chien:\n",
    "\n",
    "    def __init__(self, nom, aboiement, sante):\n",
    "        self.nom = nom\n",
    "        self.aboiement = aboiement\n",
    "        self.sante = sante\n",
    "\n",
    "    def machouiller(self, S):\n",
    "        L = ''.join(random.sample(S,len(S)))\n",
    "        return L\n",
    "\n",
    "    def aboyer(self):\n",
    "        return ('Grr...'+self.aboiement)\n",
    "\n",
    "    def mordre(self, chien):\n",
    "        if chien.sante > 0:\n",
    "            chien.sante -= 1\n",
    "\n",
    "    def manger(self):\n",
    "        if self.sante < 10:\n",
    "            self.sante += 1\n",
    "```"
   ]
  },
  {
   "cell_type": "markdown",
   "metadata": {},
   "source": [
    "Les quatre méthodes <code>machouiller, aboyer, mordre</code> et <code>manger</code> n'ont rien de spécial si ce n'est l'argument <code>self</code> **qui est visible dans leur en-tête mais qui ne sera jamais indiqué lors des appels de méthodes**.\n",
    "    \n",
    "La comparaison de <code> mordre</code> et de <code> manger </code> est très éclairante. On voit ainsi que la méthode <code>mordre()</code> agit sur le nom du chien passé en argument alors que la méthode <code> manger()</code> agit sur l'instance elle même (sur <code>self</code>)."
   ]
  },
  {
   "cell_type": "markdown",
   "metadata": {},
   "source": [
    "Enfin, la méthode <code>\\__init\\__</code> est appelée le *constructeur*. C'est cette méthode qui est en réalité appelée lorsqu'on exécute l'instruction <code>chienA = Chien('Medor', 'Wouf', 9)</code>.\n",
    "\n",
    "Elle ne fait que demander à stocker comme attributs les trois arguments qui sont passés lors de son appel.\n",
    "\n",
    "Quelle que soit la classe qui est programmée, le constructeur doit s'appeler <code>\\__init\\__</code>. Vous retrouverez donc systématiquement cette appellation."
   ]
  }
 ],
 "metadata": {
  "kernelspec": {
   "display_name": "Python 3",
   "language": "python",
   "name": "python3"
  },
  "language_info": {
   "codemirror_mode": {
    "name": "ipython",
    "version": 3
   },
   "file_extension": ".py",
   "mimetype": "text/x-python",
   "name": "python",
   "nbconvert_exporter": "python",
   "pygments_lexer": "ipython3",
   "version": "3.8.2"
  }
 },
 "nbformat": 4,
 "nbformat_minor": 2
}
