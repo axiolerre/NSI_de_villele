{
 "cells": [
  {
   "cell_type": "markdown",
   "metadata": {},
   "source": [
    "## Exercice n°1"
   ]
  },
  {
   "cell_type": "code",
   "execution_count": null,
   "metadata": {},
   "outputs": [],
   "source": [
    "class Compte_bancaire:\n",
    "    \n",
    "    def __init__(self, s):\n",
    "        self.solde = s\n",
    "        \n",
    "    def transferer(self, montant, compte_b):\n",
    "        self.solde = self.solde - montant\n",
    "        compte_b.solde = compte_b.solde + montant\n",
    "        \n",
    "    def prelever(self, montant, compte_b):\n",
    "        self.solde = self.solde + montant\n",
    "        compte_b.solde = compte_b.solde - montant    \n",
    "        \n",
    "    def etat(self):\n",
    "        if self.solde > 0:\n",
    "            return \"Positif\"\n",
    "        elif self.solde == 0:\n",
    "            return \"Nul\"\n",
    "        else:\n",
    "            return \"Négatif\"\n",
    "        "
   ]
  },
  {
   "cell_type": "code",
   "execution_count": null,
   "metadata": {},
   "outputs": [],
   "source": [
    "compte_bob = Compte_bancaire(500)\n",
    "compte_alice = Compte_bancaire(-200)\n",
    "compte_chloe = Compte_bancaire(1000)\n",
    "\n",
    "compte_bob.solde"
   ]
  },
  {
   "cell_type": "code",
   "execution_count": null,
   "metadata": {},
   "outputs": [],
   "source": [
    "compte_bob.transferer(200, compte_alice)\n",
    "compte_chloe.prelever(400, compte_bob)\n",
    "\n",
    "compte_bob.etat()"
   ]
  },
  {
   "cell_type": "code",
   "execution_count": null,
   "metadata": {},
   "outputs": [],
   "source": [
    "compte_alice.etat()"
   ]
  },
  {
   "cell_type": "code",
   "execution_count": null,
   "metadata": {},
   "outputs": [],
   "source": [
    "compte_chloe.etat()"
   ]
  },
  {
   "cell_type": "markdown",
   "metadata": {},
   "source": [
    "## Exercice n°2"
   ]
  },
  {
   "cell_type": "code",
   "execution_count": null,
   "metadata": {},
   "outputs": [],
   "source": [
    "class Intervalle:\n",
    "    \n",
    "    def __init__(self, gauche, droite):\n",
    "        self.a = gauche\n",
    "        self.b = droite\n",
    "        \n",
    "    def est_vide(self):\n",
    "        return self.a > self.b\n",
    "    \n",
    "    def __len__(self):\n",
    "        if self.est_vide():\n",
    "            return 0\n",
    "        else:\n",
    "            return self.b - self.a\n",
    "        \n",
    "    def __contains__(self, x):\n",
    "        return self.a <= x and x <= self.b\n",
    "        \n",
    "    def intersection(self, i2):\n",
    "        return Intervalle(max(i2.a, self.a), min(self.b, i2.b))\n",
    "    \n",
    "    def intersection_long(self, i2):\n",
    "        if self.est_vide() or i2.est_vide():\n",
    "            return Intervalle(1, 0)\n",
    "        \n",
    "        elif self.b < i2.a or i2.b < self.a:\n",
    "            return Intervalle(1, 0)\n",
    "        \n",
    "        else:\n",
    "            return Intervalle(max(i2.a, self.a), min(self.b, i2.b))"
   ]
  },
  {
   "cell_type": "code",
   "execution_count": null,
   "metadata": {},
   "outputs": [],
   "source": [
    "i1 = Intervalle(10, 20)\n",
    "i2 = Intervalle(8, 9)\n",
    "i3 = i1.intersection(i2)\n",
    "i3.est_vide()"
   ]
  },
  {
   "cell_type": "code",
   "execution_count": null,
   "metadata": {},
   "outputs": [],
   "source": [
    "14.777 in i1 #pour tester __contains__"
   ]
  },
  {
   "cell_type": "markdown",
   "metadata": {},
   "source": [
    "## Exercice n°3"
   ]
  },
  {
   "cell_type": "code",
   "execution_count": null,
   "metadata": {},
   "outputs": [],
   "source": [
    "class Duree:\n",
    "    \n",
    "    def __init__(self, h, m, s):\n",
    "        self.h = h\n",
    "        self.m = m\n",
    "        self.s = s\n",
    "        \n",
    "    def __str__(self):\n",
    "        return str(self.h) + ' h ' + str(self.m) + ' min ' + str(self.s) + ' s.'\n",
    "    \n",
    "    def en_secondes(self):\n",
    "        return 3600 * self.h + 60 * self.m + self.s\n",
    "            \n",
    "    def __lt__(self, d2):\n",
    "        return self.en_secondes() < d2.en_secondes()\n",
    "    \n",
    "    def __lt2__(self, d2):\n",
    "        if self.h < d2.h:\n",
    "            return True\n",
    "        elif self.h == d2.h:\n",
    "            if self.m < d2.m:\n",
    "                return True\n",
    "            elif self.m == d2.m:\n",
    "                if self.s < d2.s:\n",
    "                    return True\n",
    "        return False\n",
    "    \n",
    "    def tic(self):\n",
    "        if self.s == 59:\n",
    "            self.s = 0\n",
    "            if self.m == 59:\n",
    "                self.m = 0\n",
    "                self.h = self.h + 1\n",
    "            else:\n",
    "                self.m += 1\n",
    "        else:\n",
    "            self.s += 1\n",
    "        \n",
    "    def multitic(self, x):\n",
    "        for _ in range(x):\n",
    "            self.tic()\n",
    "    "
   ]
  },
  {
   "cell_type": "code",
   "execution_count": null,
   "metadata": {},
   "outputs": [],
   "source": [
    "d = Duree(3, 17, 45)\n",
    "d.multitic(17)\n",
    "print(d)"
   ]
  },
  {
   "cell_type": "code",
   "execution_count": null,
   "metadata": {},
   "outputs": [],
   "source": [
    "print(d)"
   ]
  }
 ],
 "metadata": {
  "kernelspec": {
   "display_name": "Python 3",
   "language": "python",
   "name": "python3"
  },
  "language_info": {
   "codemirror_mode": {
    "name": "ipython",
    "version": 3
   },
   "file_extension": ".py",
   "mimetype": "text/x-python",
   "name": "python",
   "nbconvert_exporter": "python",
   "pygments_lexer": "ipython3",
   "version": "3.8.2"
  }
 },
 "nbformat": 4,
 "nbformat_minor": 4
}
