{
 "cells": [
  {
   "cell_type": "code",
   "execution_count": null,
   "metadata": {},
   "outputs": [],
   "source": [
    "from metakernel import register_ipython_magics\n",
    "register_ipython_magics()"
   ]
  },
  {
   "cell_type": "code",
   "execution_count": null,
   "metadata": {},
   "outputs": [],
   "source": [
    "from listes_russes_syldaves import *"
   ]
  },
  {
   "cell_type": "markdown",
   "metadata": {},
   "source": [
    "## Exemple n°1 - Poupées russes"
   ]
  },
  {
   "cell_type": "code",
   "execution_count": null,
   "metadata": {},
   "outputs": [],
   "source": [
    "ma_poupee = engendrer_liste_russe()"
   ]
  },
  {
   "cell_type": "code",
   "execution_count": null,
   "metadata": {},
   "outputs": [],
   "source": [
    "def compter_poupees( pp ):\n",
    "    if len(pp) == 0:\n",
    "        return 1\n",
    "    else:\n",
    "        fille = pp[0]\n",
    "        return 1 + compter_poupees(fille)\n",
    "\n",
    "compter_poupees(ma_poupee)"
   ]
  },
  {
   "cell_type": "code",
   "execution_count": null,
   "metadata": {},
   "outputs": [],
   "source": [
    "def compter_poupees_iteratif( pp ):\n",
    "    nb_poupees = 1\n",
    "    while len(pp) != 0:\n",
    "        nb_poupees = nb_poupees + 1\n",
    "        pp = pp[0]\n",
    "    return nb_poupees\n",
    "        \n",
    "compter_poupees_iter(ma_poupee)"
   ]
  },
  {
   "cell_type": "markdown",
   "metadata": {},
   "source": [
    "## Exercice 1"
   ]
  },
  {
   "cell_type": "code",
   "execution_count": null,
   "metadata": {},
   "outputs": [],
   "source": [
    "ma_poupee = engendrer_liste_syldave()"
   ]
  },
  {
   "cell_type": "code",
   "execution_count": null,
   "metadata": {},
   "outputs": [],
   "source": [
    "def compter_poupees( pp ):\n",
    "    if len(pp) == 0 :\n",
    "        return 1\n",
    "    else :\n",
    "        fille_1, fille_2 = pp[0], pp[1]\n",
    "        return 1 + compter_poupees(fille_1) + compter_poupees(fille_2)\n",
    "\n",
    "compter_poupees(ma_poupee)"
   ]
  },
  {
   "cell_type": "markdown",
   "metadata": {},
   "source": [
    "Il n'est pas possible d'adapter l'algorithme itératif ..."
   ]
  },
  {
   "cell_type": "markdown",
   "metadata": {},
   "source": [
    "## Exemple 2 - Nombres triangulaires"
   ]
  },
  {
   "cell_type": "code",
   "execution_count": null,
   "metadata": {},
   "outputs": [],
   "source": [
    "def triangulaire(n) :\n",
    "    if n == 1:\n",
    "        return 1\n",
    "    else:\n",
    "        return n + triangulaire(n-1)"
   ]
  },
  {
   "cell_type": "code",
   "execution_count": null,
   "metadata": {},
   "outputs": [],
   "source": [
    "triangulaire(6)"
   ]
  },
  {
   "cell_type": "markdown",
   "metadata": {},
   "source": [
    "### Exercice n°2"
   ]
  },
  {
   "cell_type": "code",
   "execution_count": null,
   "metadata": {},
   "outputs": [],
   "source": [
    "def triangulaire_iteratif(n):\n",
    "    somme = 0\n",
    "    for rangee_en_plus in range(n+1):\n",
    "        somme = somme + rangee_en_plus\n",
    "    return somme"
   ]
  },
  {
   "cell_type": "code",
   "execution_count": null,
   "metadata": {},
   "outputs": [],
   "source": [
    "triangulaire_iteratif(6)"
   ]
  },
  {
   "cell_type": "markdown",
   "metadata": {},
   "source": [
    "## Exemple 3 - Jours de paie"
   ]
  },
  {
   "cell_type": "code",
   "execution_count": null,
   "metadata": {},
   "outputs": [],
   "source": [
    "#version de base\n",
    "\n",
    "def paie(n):\n",
    "    if n==1 or n==2:\n",
    "        return 1\n",
    "    else:\n",
    "        return paie(n-1) + paie(n-2)  "
   ]
  },
  {
   "cell_type": "code",
   "execution_count": null,
   "metadata": {},
   "outputs": [],
   "source": [
    "paie(15)"
   ]
  },
  {
   "cell_type": "code",
   "execution_count": null,
   "metadata": {},
   "outputs": [],
   "source": [
    "# version avec compteur d'appels\n",
    "def paie(n):\n",
    "    global NB_APPELS\n",
    "    NB_APPELS = NB_APPELS + 1\n",
    "    if n==1 or n==2:\n",
    "        return 1\n",
    "    else:\n",
    "        return paie(n-1) + paie(n-2)  "
   ]
  },
  {
   "cell_type": "code",
   "execution_count": null,
   "metadata": {},
   "outputs": [],
   "source": [
    "#on constate que pour n=30, le nombre d'appels effectués est énorme\n",
    "NB_APPELS = 0\n",
    "paie(30)\n",
    "NB_APPELS"
   ]
  },
  {
   "cell_type": "markdown",
   "metadata": {},
   "source": [
    "### Exercice n°3"
   ]
  },
  {
   "cell_type": "code",
   "execution_count": null,
   "metadata": {},
   "outputs": [],
   "source": [
    "#version 1\n",
    "\n",
    "def paie_iteratif(n):\n",
    "    if n == 1 or n == 2:\n",
    "        return 1\n",
    "    else:\n",
    "        veille, paie = 1, 1\n",
    "        for i in range(3, n+1):\n",
    "            veille, paie = paie, paie + veille\n",
    "        return paie"
   ]
  },
  {
   "cell_type": "code",
   "execution_count": null,
   "metadata": {},
   "outputs": [],
   "source": [
    "#version 2\n",
    "\n",
    "def paie_iteratif(n):\n",
    "    if n == 1 or n == 2:\n",
    "        return 1\n",
    "    else:\n",
    "        veille, paie = 1, 1\n",
    "        for i in range(3, n+1):\n",
    "            avant_veille = veille\n",
    "            veille = paie\n",
    "            paie = veille + avant_veille\n",
    "        return paie"
   ]
  },
  {
   "cell_type": "code",
   "execution_count": null,
   "metadata": {},
   "outputs": [],
   "source": [
    "paie_iteratif(5)"
   ]
  },
  {
   "cell_type": "markdown",
   "metadata": {},
   "source": [
    "# Exercices"
   ]
  },
  {
   "cell_type": "markdown",
   "metadata": {},
   "source": [
    "### Exercice n°5"
   ]
  },
  {
   "cell_type": "code",
   "execution_count": null,
   "metadata": {},
   "outputs": [],
   "source": [
    "def factorielle(n):\n",
    "    if n == 0 :\n",
    "        return 1\n",
    "    else :\n",
    "        return n * factorielle(n-1)\n",
    "    \n",
    "factorielle(5)"
   ]
  },
  {
   "cell_type": "markdown",
   "metadata": {},
   "source": [
    "### Exercice n°6"
   ]
  },
  {
   "cell_type": "code",
   "execution_count": null,
   "metadata": {},
   "outputs": [],
   "source": [
    "def compter_777(tab, k):\n",
    "    if k < 0:\n",
    "        return 0\n",
    "    else:\n",
    "        if tab[k] == 777:\n",
    "            return 1 + compter_777(tab, k-1)\n",
    "        else:\n",
    "            return compter_777(tab, k-1)\n",
    "\n",
    "t = [6, 777, 8, 9, 10, 23, 777, 0, 777, 2, 4, -7, -777]  \n",
    "compter_777(t, len(t)-1)"
   ]
  },
  {
   "cell_type": "code",
   "execution_count": null,
   "metadata": {},
   "outputs": [],
   "source": [
    "def compter_777_final(tab):\n",
    "    return compter_777(tab, len(tab)-1)\n",
    "\n",
    "t = [6, 777, 8, 9, 10, 23, 777, 0, 777, 2, 4, -7, -777]  \n",
    "compter_777_final(t)"
   ]
  },
  {
   "cell_type": "markdown",
   "metadata": {},
   "source": [
    "### Exercice n°7"
   ]
  },
  {
   "cell_type": "code",
   "execution_count": null,
   "metadata": {},
   "outputs": [],
   "source": [
    "def resoudre(inegs, nbs, solution):\n",
    "    if len(inegs) == 0:\n",
    "        solution.append(nbs[0])\n",
    "    else:\n",
    "        if inegs[0] == '<':\n",
    "            solution.append(nbs[0])\n",
    "            resoudre(inegs[1:], nbs[1:], solution)\n",
    "        else:\n",
    "            solution.append(nbs[-1])\n",
    "            resoudre(inegs[1:], nbs[:-1], solution)\n",
    "\n",
    "inegs = [ '<', '<', '>', '>', '<']\n",
    "nbs = [3, 13, 13, 17, 19, 23]            \n",
    "sol = []\n",
    "resoudre(inegs, nbs, sol)\n",
    "sol"
   ]
  }
 ],
 "metadata": {
  "kernelspec": {
   "display_name": "Python 3",
   "language": "python",
   "name": "python3"
  },
  "language_info": {
   "codemirror_mode": {
    "name": "ipython",
    "version": 3
   },
   "file_extension": ".py",
   "mimetype": "text/x-python",
   "name": "python",
   "nbconvert_exporter": "python",
   "pygments_lexer": "ipython3",
   "version": "3.8.2"
  }
 },
 "nbformat": 4,
 "nbformat_minor": 4
}
