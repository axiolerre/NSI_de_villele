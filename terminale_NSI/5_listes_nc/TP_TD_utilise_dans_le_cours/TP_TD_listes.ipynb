{
 "cells": [
  {
   "cell_type": "markdown",
   "metadata": {},
   "source": [
    "# I : Implémentation d'une structure  de données `Liste` identifiée à `Cellule`"
   ]
  },
  {
   "cell_type": "markdown",
   "metadata": {},
   "source": [
    "On cherche à implémenter une classe `Liste` qui disposera de deux attributs :\n",
    "- `_elem` qui a vocation à stocker l'élément en tête de liste,\n",
    "- `_succ` qui a vocation à stocker la liste constituant la queue de liste.\n",
    "\n",
    "Outre le constructeur, cette classe `Liste` disposera par ailleurs de quatre méthodes : \n",
    "- `queue(self)             :` renvoie la queue de la liste,\n",
    "- `tete(self)              :` renvoie l'élément en tête de liste,\n",
    "- `ajouter(self, element)  :` mute la liste pour y ajouter `element` en tête,\n",
    "- `__repr__(self)          :` pour renvoyer la représentation textuelle de la liste.\n",
    "\n",
    "Voici un exemple d'utilisation **où l'on remarque qu'il y a deux façons de remplir une liste** :\n",
    "```\n",
    "ma_liste = Liste(3, None)           # ma_liste a muté et contient 3\n",
    "ma_liste.ajouter(4)                 # ma_liste a muté et contient 4 et 3\n",
    "ma_liste.ajouter(7)                 # ma_liste a muté et contient 7, 4 et 3\n",
    "ma_liste.ajouter(42)                # ma_liste a muté et contient 42, 7, 4 et 3\n",
    "ma_liste.tete()                     # 42\n",
    "ma_liste.queue()                    # une liste contenant 7, 4 et 3\n",
    "ma_liste = Liste(777, ma_liste)     # ma_liste est une nouvelle liste contenant \n",
    "                                    # 777, 42, 7, 4 et 3\n",
    "ma_liste = ma_liste.queue().queue() # ma_liste est une nouvelle liste contenant \n",
    "                                    # 7, 4 et 3\n",
    "```\n",
    "\n",
    "\n",
    "**Remarque 1 : Utilisation ou pas d'une classe `Cellule` pour l'implémentation**  \n",
    "Ici nous assimilons le type `Liste` au type `Cellule`. Cela permet de simplifier l'implémentation, en revanche cela impose d'assimiler la liste vide à `None`. À titre informatif, une implémentation distinguant les classes `Cellule` et `Liste` est donnée en fin de notebook.\n",
    "\n",
    "**Remarque 2 : Être au clair sur la différence entre une liste et une pile**  \n",
    "En première approche on peut avoir l'impression qu'une liste, c'est comme une pile : c'est faux ! Il y a en effet une différence fondamentale.   \n",
    "En effet **pour une pile**, on ne peut parcourir les éléments de la pile qu'en la dépilant - **et donc en la mutant** - progressivement.  \n",
    "Au contraire, **pour une liste**, on peut parcourir la liste en accédant aux queues de liste - **ce qui ne mute pas la liste initiale** - successivement."
   ]
  },
  {
   "cell_type": "markdown",
   "metadata": {},
   "source": [
    "<div class = \"alert alert-info\">\n",
    "\n",
    "\n",
    "**Questions :**\n",
    "\n",
    "- Compléter la méthode `queue(self)`  (1 seule ligne de code)  \n",
    "    \n",
    "    \n",
    "- Compléter la méthode `tete(self)` (1 seule ligne de code)  \n",
    "    \n",
    "    \n",
    "- Compléter la méthode `ajouter(self, element)`  (2 lignes de code)  \n",
    "Attention, on ne peut pas écrire une instruction telle que `self = Liste( ... )` dans une classe : un objet ne peut pas se redéfinir lui-même. Ici il s'agit de muter la liste : il faut donc plutôt ré-affecter les deux attributs `_elem` et `_succ` de self.\n",
    "    \n",
    "    \n",
    "- Compléter la méthode `__repr__(self)` en utilisant une version récursive. (1 ligne de code)  \n",
    "On rappelle que pour convertir `_elem` en texte on pourra utiliser la méthode `str()` de Python.\n"
   ]
  },
  {
   "cell_type": "code",
   "execution_count": null,
   "metadata": {},
   "outputs": [],
   "source": [
    "class Liste:\n",
    "    def __init__(self, element, succ):\n",
    "        self._elem = element\n",
    "        self._succ = succ\n",
    "        \n",
    "    def queue(self):\n",
    "        pass\n",
    "    \n",
    "    def tete(self):\n",
    "        pass\n",
    "    \n",
    "    def ajouter(self, element):\n",
    "        pass\n",
    "    \n",
    "    def __repr__(self):\n",
    "        pass"
   ]
  },
  {
   "cell_type": "markdown",
   "metadata": {},
   "source": [
    "<div class = \"alert alert-info\">\n",
    "\n",
    "\n",
    "**Questions :**  \n",
    "    \n",
    "    \n",
    "Tester votre implémentation en exécutant la cellule de code ci-dessous."
   ]
  },
  {
   "cell_type": "code",
   "execution_count": 2,
   "metadata": {},
   "outputs": [
    {
     "name": "stdout",
     "output_type": "stream",
     "text": [
      "3|None\n",
      "4|3|None\n",
      "7|4|3|None\n",
      "42|7|4|3|None\n",
      "---------\n",
      "42\n",
      "7|4|3|None\n",
      "-----------\n",
      "777|42|7|4|3|None\n",
      "7|4|3|None\n"
     ]
    }
   ],
   "source": [
    "ma_liste = Liste(3, None)\n",
    "print(ma_liste)\n",
    "ma_liste.ajouter(4)\n",
    "print(ma_liste)\n",
    "ma_liste.ajouter(7)\n",
    "print(ma_liste)\n",
    "ma_liste.ajouter(42)\n",
    "print(ma_liste)\n",
    "print('---------')\n",
    "print(ma_liste.tete())\n",
    "print(ma_liste.queue())\n",
    "print('-----------')\n",
    "ma_liste = Liste(777, ma_liste)\n",
    "print(ma_liste)\n",
    "ma_liste = ma_liste.queue().queue()\n",
    "print(ma_liste)"
   ]
  },
  {
   "cell_type": "markdown",
   "metadata": {},
   "source": [
    "# II : Quelques algorithmes opérant sur la classe `Liste`"
   ]
  },
  {
   "cell_type": "markdown",
   "metadata": {},
   "source": [
    "## Convertir un tableau en liste"
   ]
  },
  {
   "cell_type": "markdown",
   "metadata": {},
   "source": [
    "<div class = \"alert alert-info\">\n",
    "\n",
    "\n",
    "**Questions :**  \n",
    "Ecrire une fonction `convertir(tab)` qui prend en argument un tableau (`list` Python) et renvoie une liste `Liste` contenant les mêmes éléments que dans le tableau. \n",
    "\n",
    "La tête de liste sera l'élément d'indice `-1` du tableau (c'est à dire son dernier élément).\n",
    "    \n",
    "On réfléchira pour savoir quelle méthode de remplissage on utilise ..."
   ]
  },
  {
   "cell_type": "code",
   "execution_count": null,
   "metadata": {},
   "outputs": [],
   "source": []
  },
  {
   "cell_type": "code",
   "execution_count": 42,
   "metadata": {},
   "outputs": [
    {
     "name": "stdout",
     "output_type": "stream",
     "text": [
      "6|5|4|3|None\n"
     ]
    }
   ],
   "source": [
    "ma_liste = convertir([3, 4, 5, 6])\n",
    "print(ma_liste)"
   ]
  },
  {
   "cell_type": "markdown",
   "metadata": {},
   "source": [
    "<div class = \"alert alert-warning\">\n",
    "\n",
    "\n",
    "**Votre attention s'il vous plait !**\n",
    "\n",
    "    \n",
    "Pour les algorithmes qui suivent on vous demande systématiquement une version récursive. Pour cela il faut bien entendu se baser sur la nature intrinsèquement récursive des listes : à savoir qu'une liste est composée d'une tête et d'une queue qui est une liste plus petite.\n",
    "    \n",
    "Un algorithme récursif (voir si besoin la méthode `__repr__` de la classe `Liste`) qui travaille sur une liste a donc (quasiment tout le temps) une récursivité de la forme :\n",
    "                  \n",
    "                  ------> machin(liste.tete()) d'un côté \n",
    "                 /\n",
    "    Algo(liste) / \n",
    "                \\\n",
    "                 \\\n",
    "                  ------> Algo(liste.queue()) de l'autre\n",
    "    \n",
    "Bien entendu il faut prendre garde au cas de base qui est très souvent le cas où la liste est la liste vide.\n",
    "    \n",
    " "
   ]
  },
  {
   "cell_type": "markdown",
   "metadata": {},
   "source": [
    "## Calcul de la longueur d'une liste"
   ]
  },
  {
   "cell_type": "markdown",
   "metadata": {},
   "source": [
    "<div class = \"alert alert-info\">\n",
    "\n",
    "\n",
    "**Questions :**  \n",
    "Ecrire une fonction `longueur(liste)` qui prend en argument une liste (de type `Liste`) d'entiers et renvoie le nombre d'éléments contenus dans cette liste.\n",
    " \n",
    "On proposera deux versions : \n",
    "- une récursive\n",
    "- une itérative (boucle `while`)\n",
    "\n"
   ]
  },
  {
   "cell_type": "code",
   "execution_count": null,
   "metadata": {},
   "outputs": [],
   "source": []
  },
  {
   "cell_type": "code",
   "execution_count": 46,
   "metadata": {},
   "outputs": [],
   "source": [
    "assert longueur(convertir([3, 4, 5, 7, 12, 2, 1])) == 7\n",
    "assert longueur(None) == 0"
   ]
  },
  {
   "cell_type": "code",
   "execution_count": 50,
   "metadata": {},
   "outputs": [],
   "source": [
    "assert longueur_iter(convertir([3, 4, 5, 7])) == 4\n",
    "assert longueur_iter(None) == 0"
   ]
  },
  {
   "cell_type": "markdown",
   "metadata": {},
   "source": [
    "## recherche d'un élément dans une liste"
   ]
  },
  {
   "cell_type": "markdown",
   "metadata": {},
   "source": [
    "<div class = \"alert alert-info\">\n",
    "\n",
    "\n",
    "**Questions :**  \n",
    "Ecrire une fonction `recherche(liste, element)` qui prend en argument une liste (de type `Liste`) d'entiers et renvoie True si `element` est présent dans la liste et `False` sinon.\n",
    " \n",
    "On proposera deux versions : \n",
    "- une récursive\n",
    "- une itérative (boucle `while`)\n"
   ]
  },
  {
   "cell_type": "code",
   "execution_count": null,
   "metadata": {},
   "outputs": [],
   "source": []
  },
  {
   "cell_type": "code",
   "execution_count": 59,
   "metadata": {},
   "outputs": [],
   "source": [
    "assert recherche_iter(convertir([6, 9, 1, 0, -4]), -4) == True\n",
    "assert recherche_iter(convertir([6, 9, 1, 0, -4]), 6) == True\n",
    "assert recherche_iter(convertir([6, 9, 1, 0, -4]), 7) == False\n",
    "assert recherche_iter(None, 7) == False"
   ]
  },
  {
   "cell_type": "markdown",
   "metadata": {},
   "source": [
    "## recherche du maximum dans une liste"
   ]
  },
  {
   "cell_type": "markdown",
   "metadata": {},
   "source": [
    "<div class = \"alert alert-info\">\n",
    "\n",
    "\n",
    "**Questions :**  \n",
    "Ecrire une fonction `maximum(liste)` qui prend en argument une liste non vide (de type `Liste`) d'entiers et renvoie le maximum de cette liste.\n",
    " \n",
    "On proposera deux versions : \n",
    "- une récursive\n",
    "- une itérative (boucle `while`)\n"
   ]
  },
  {
   "cell_type": "code",
   "execution_count": null,
   "metadata": {},
   "outputs": [],
   "source": []
  },
  {
   "cell_type": "code",
   "execution_count": 70,
   "metadata": {},
   "outputs": [],
   "source": [
    "assert maximum_iter(convertir([6, 9, 1, 0, -4])) == 9\n",
    "assert maximum_iter(convertir([6, 2, 1, 16, 37])) == 37\n",
    "assert maximum_iter(convertir([66, 99, 158, 0, 234])) == 234"
   ]
  },
  {
   "cell_type": "markdown",
   "metadata": {},
   "source": [
    "## implémentation de l'attribut longueur dans la classe `Liste`"
   ]
  },
  {
   "cell_type": "markdown",
   "metadata": {},
   "source": [
    "<div class = \"alert alert-info\">\n",
    "\n",
    "\n",
    "**Questions :**  \n",
    "La fonction `longueur()` ci-dessus est en complexité $O(n)$ ce qui est coûteux.    \n",
    "Modifier la classe `Liste` pour qu'elle dispose d'un attribut `longueur` qui sera calculé au fur et à mesure.\n"
   ]
  },
  {
   "cell_type": "code",
   "execution_count": null,
   "metadata": {},
   "outputs": [],
   "source": [
    "class Liste:\n",
    "    def __init__(self, element, succ):\n",
    "        self._elem = element\n",
    "        self._succ = succ\n",
    "        self.longueur = #à compléter\n",
    "        \n",
    "    def queue(self):\n",
    "        pass\n",
    "    \n",
    "    def tete(self):\n",
    "        pass\n",
    "    \n",
    "    def inserer(self, element): #<------- il faut aussi gérer la modification\n",
    "        pass                    # de longueur lorsq'on insère un élément.\n",
    "    \n",
    "    def __repr__(self):\n",
    "        pass"
   ]
  },
  {
   "cell_type": "markdown",
   "metadata": {},
   "source": [
    "<div class = \"alert alert-danger\">\n",
    "\n",
    "\n",
    "**Question (sous des airs anodins cette question (et sa réponse) est fondamentale pour comprendre le \"plus\" apporté par les listes par rapport aux files et piles):**  \n",
    "Les algorithmes ci-dessus opérant sur les listes montrent qu'il est possible de parcourir facilement une liste **sans la modifier**.    \n",
    "    \n",
    "    \n",
    "Pourquoi n'a-t-on pas cherché à faire les mêmes algorithmes pour les piles ou les files ?\n",
    "    \n"
   ]
  },
  {
   "cell_type": "code",
   "execution_count": null,
   "metadata": {},
   "outputs": [],
   "source": []
  },
  {
   "cell_type": "markdown",
   "metadata": {},
   "source": [
    "<div class = \"alert alert-warning\">\n",
    "    \n",
    "    \n",
    "# Complément d'information : \n",
    "\n",
    "# Implémentation de `Liste` avec une classe `Cellule`"
   ]
  },
  {
   "cell_type": "code",
   "execution_count": 72,
   "metadata": {},
   "outputs": [],
   "source": [
    "class Cellule:\n",
    "    def __init__(self, element, succ):\n",
    "        self.elem = element\n",
    "        self.succ = succ\n",
    "        \n",
    "    def successeur(self):\n",
    "        return self.succ\n",
    "    \n",
    "    def element(self):\n",
    "        return self.elem\n",
    "    \n",
    "    def __repr__(self):\n",
    "        return str(self.elem)\n",
    "    \n",
    "class Liste:\n",
    "    \n",
    "    def __init__(self):\n",
    "        self._cellule = None\n",
    "            \n",
    "    def est_vide(self):\n",
    "        return self._cellule == None\n",
    "    \n",
    "    def tete(self):\n",
    "        assert not self.est_vide()\n",
    "        return self._cellule.element()\n",
    "    \n",
    "    def queue(self):\n",
    "        assert not self.est_vide()\n",
    "        return self._cellule.successeur()\n",
    " \n",
    "    def inserer(self, element):\n",
    "        L = Liste()\n",
    "        L._cellule = self._cellule\n",
    "        self._cellule = Cellule(element, L)\n",
    "        \n",
    "    def eteter(self):\n",
    "        assert not self.est_vide()\n",
    "        self._cellule = self._cellule.successeur()._cellule\n",
    "        \n",
    "    def __repr__(self):\n",
    "        if not self.est_vide():\n",
    "            return self.queue().__repr__() + '|' + str(self.tete())\n",
    "        else:\n",
    "            return '\\u25A0'"
   ]
  },
  {
   "cell_type": "code",
   "execution_count": 73,
   "metadata": {},
   "outputs": [
    {
     "name": "stdout",
     "output_type": "stream",
     "text": [
      "■\n",
      "■|6\n",
      "■|6|1\n",
      "■|6|1|0\n",
      "■|6|1|0|5\n",
      "■|6|1|0|5|9\n",
      "■|6|1|0|5\n",
      "■|6|1|0\n",
      "■|6|1\n",
      "■|6\n",
      "■\n"
     ]
    }
   ],
   "source": [
    "from random import randint\n",
    "a = Liste()\n",
    "print(a)\n",
    "for i in range(5):\n",
    "    a.inserer(randint(0,9))\n",
    "    print(a)\n",
    "for i in range(5):\n",
    "    a.eteter()\n",
    "    print(a)"
   ]
  },
  {
   "cell_type": "code",
   "execution_count": null,
   "metadata": {},
   "outputs": [],
   "source": [
    "from random import randint\n",
    "a = Liste()\n",
    "for i in range(5):\n",
    "    a.inserer(randint(0,9))\n",
    "    \n",
    "print(a)  \n",
    "print(a.queue())\n",
    "print(a.tete())"
   ]
  }
 ],
 "metadata": {
  "kernelspec": {
   "display_name": "Python 3",
   "language": "python",
   "name": "python3"
  },
  "language_info": {
   "codemirror_mode": {
    "name": "ipython",
    "version": 3
   },
   "file_extension": ".py",
   "mimetype": "text/x-python",
   "name": "python",
   "nbconvert_exporter": "python",
   "pygments_lexer": "ipython3",
   "version": "3.8.2"
  }
 },
 "nbformat": 4,
 "nbformat_minor": 4
}
