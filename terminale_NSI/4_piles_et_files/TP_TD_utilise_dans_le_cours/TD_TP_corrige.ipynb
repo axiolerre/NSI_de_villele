{
 "cells": [
  {
   "cell_type": "markdown",
   "metadata": {},
   "source": [
    "# I : Implémentations de piles"
   ]
  },
  {
   "cell_type": "markdown",
   "metadata": {},
   "source": [
    "## I . 1 : avec un tableau (sans classe `Pile`)"
   ]
  },
  {
   "cell_type": "markdown",
   "metadata": {},
   "source": [
    "On rappelle qu'en Python la méthode `append` permet d'ajouter un élement à la fin d'un tableau (de type `list`) et que la méthode `pop` permet de retirer un élément à la fin d'un tableau en renvoyant cet élément. On souhaite donc se baser sur ces fonctionnalités pour implémenter une pile qui sera en fait un tableau `pile`. \n",
    "\n",
    "Ce tableau sera initialement créé par un appel à la fonction `pilevide`. Puis il sera utilisé de la fonction suivante par exemple :\n",
    "```\n",
    "ma_pile = pilevide()        # ma_pile = []\n",
    "empiler(7, ma_pile)         # ma_pile = [7]\n",
    "empiler(8, ma_pile)         # ma_pile = [7, 8]\n",
    "a = depiler(ma_pile)        # ma_pile = [7]        et a = 8\n",
    "empiler(0, ma_pile)         # ma_pile = [7, 0]\n",
    "a = depiler(ma_pile)        # ma_pile = [7]        et a = 0\n",
    "est_vide(ma_pile)           # False\n",
    "```"
   ]
  },
  {
   "cell_type": "markdown",
   "metadata": {},
   "source": [
    "<div class = \"alert alert-info\">\n",
    "    \n",
    "    \n",
    "**Question :**   \n",
    "On considère l'implémentation incomplète suivante de fonctions permettant de gérer une pile à l'aide d'un tableau (de type `list`).\n",
    "Compléter les fonctions `empiler` et `depiler` qui doivent permettre d'exécuter les exemples d'instructions indiquées ci-dessus.\n"
   ]
  },
  {
   "cell_type": "code",
   "execution_count": null,
   "metadata": {},
   "outputs": [],
   "source": [
    "def pilevide():\n",
    "    return []\n",
    "\n",
    "def empiler(element, pile):\n",
    "    pass #à compléter\n",
    "    \n",
    "def depiler(pile):\n",
    "    assert pile != []\n",
    "    pass #à compléter\n",
    "\n",
    "def est_vide(pile):\n",
    "    return pile == []"
   ]
  },
  {
   "cell_type": "markdown",
   "metadata": {},
   "source": [
    "<div class = \"alert alert-danger\">\n",
    "\n",
    "\n",
    "### Correction"
   ]
  },
  {
   "cell_type": "code",
   "execution_count": null,
   "metadata": {},
   "outputs": [],
   "source": [
    "def pilevide():\n",
    "    return []\n",
    "\n",
    "def empiler(element, pile):\n",
    "    pile.append(element)\n",
    "    \n",
    "def depiler(pile):\n",
    "    assert pile != []\n",
    "    return pile.pop()\n",
    "\n",
    "def est_vide(pile):\n",
    "    return pile == []"
   ]
  },
  {
   "cell_type": "markdown",
   "metadata": {},
   "source": [
    "<div class = \"alert alert-info\">\n",
    "    \n",
    "    \n",
    "**Question :**  \n",
    "Ecrire dans la cellule ci-dessous les instructions permettant de créer une pile `ma_pile` et un entier `a` puis de les mettre dans les états successifs suivants :\n",
    "    \n",
    "```\n",
    "a = 0\n",
    "ma_pile = []\n",
    "ma_pile = [12]  \n",
    "ma_pile = [12, 14]  \n",
    "ma_pile = [12, 14, 8]  \n",
    "ma_pile = [12,14]        et a = 8\n",
    "ma_pile = [12, 14, 16]\n",
    "ma_pile = [12, 14]       et a = 16\n",
    "ma_pile = [12]           et a = 14 \n",
    "ma_pile = []             et a = 12\n",
    "```"
   ]
  },
  {
   "cell_type": "code",
   "execution_count": null,
   "metadata": {},
   "outputs": [],
   "source": []
  },
  {
   "cell_type": "markdown",
   "metadata": {},
   "source": [
    "<div class = \"alert alert-danger\">\n",
    "\n",
    "\n",
    "### Correction"
   ]
  },
  {
   "cell_type": "code",
   "execution_count": null,
   "metadata": {},
   "outputs": [],
   "source": [
    "a = 0\n",
    "ma_pile = pilevide()\n",
    "print(ma_pile)\n",
    "empiler(12, ma_pile)\n",
    "print(ma_pile)\n",
    "empiler(14, ma_pile)\n",
    "print(ma_pile)\n",
    "empiler(8, ma_pile)\n",
    "print(ma_pile)\n",
    "a = depiler(ma_pile)\n",
    "print(ma_pile)\n",
    "empiler(16, ma_pile)\n",
    "print(ma_pile)\n",
    "a = depiler(ma_pile)\n",
    "print(ma_pile)\n",
    "a = depiler(ma_pile)\n",
    "print(ma_pile)\n",
    "a = depiler(ma_pile)\n",
    "print(ma_pile)"
   ]
  },
  {
   "cell_type": "markdown",
   "metadata": {},
   "source": [
    "<div class = \"alert alert-info\">\n",
    "    \n",
    "    \n",
    "**Questions :**  \n",
    "    \n",
    "- Avec l'implémentation ci-dessus, que se passe-t-il si on cherche à dépiler une pile déjà vide ?  \n",
    "    \n",
    "- Quel mot-clef permet - dans la fonction `depiler` - de gérer cela en Python ?\n",
    "    \n",
    "- Est-ce que cette implémentation respecte le paradigme fonctionnel ? Dans quelle(s) fonction(s) est-ce visible ?"
   ]
  },
  {
   "cell_type": "markdown",
   "metadata": {},
   "source": [
    "<div class = \"alert alert-danger\">\n",
    "\n",
    "\n",
    "### Correction"
   ]
  },
  {
   "cell_type": "markdown",
   "metadata": {},
   "source": [
    "- on obtient une erreur\n",
    "- `assert`\n",
    "- non puisqu'on mute un objet lorsquon empile ou dépile."
   ]
  },
  {
   "cell_type": "markdown",
   "metadata": {},
   "source": [
    "<div class = \"alert alert-info\">  \n",
    "\n",
    "\n",
    "On rappelle que la méthode `randint(a, b)` du module random renvoie un nombre entier aléatoire compris entre `a` inclus et `b` inclus et que la méthode `choice(iter)` du même module renvoie un élément choisi au hasard dans l'itérable `iter` (chaîne de caractères, tableau ...).  \n",
    "    \n",
    "**Questions :**  \n",
    "La fonction `pile_aleatoire` ci-dessous renvoie une pile comportant au hasard entre 10 et 50 caractères choisis eux-mêmes au hasard parmi `N, S` et `I`.\n",
    "    \n",
    "- Compléter la fonction `vider_pile` pour qu'elle vide la pile passée en argument. On la testera sur une pile générée par `pile_aleatoire()`"
   ]
  },
  {
   "cell_type": "code",
   "execution_count": null,
   "metadata": {},
   "outputs": [],
   "source": [
    "from random import randint, choice\n",
    "\n",
    "def pile_aleatoire():\n",
    "    ma_pile = pilevide()\n",
    "    for i in range(randint(10, 50)):\n",
    "        empiler(choice('NSI'), ma_pile)\n",
    "    return ma_pile\n",
    "        \n",
    "\n",
    "def vider_pile(pile):\n",
    "    pass\n"
   ]
  },
  {
   "cell_type": "code",
   "execution_count": null,
   "metadata": {},
   "outputs": [],
   "source": [
    "pile_de_test = pile_aleatoire()\n",
    "print('Avant vidange : ', pile_de_test)\n",
    "vider_pile(pile_de_test)\n",
    "print('Après vidange : ', pile_de_test)"
   ]
  },
  {
   "cell_type": "markdown",
   "metadata": {},
   "source": [
    "<div class = \"alert alert-danger\">\n",
    "\n",
    "\n",
    "### Correction"
   ]
  },
  {
   "cell_type": "code",
   "execution_count": null,
   "metadata": {},
   "outputs": [],
   "source": [
    "from random import randint, choice\n",
    "\n",
    "def pile_aleatoire():\n",
    "    ma_pile = pilevide()\n",
    "    for i in range(randint(10, 50)):\n",
    "        empiler(choice('NSI'), ma_pile)\n",
    "    return ma_pile\n",
    "        \n",
    "\n",
    "def vider_pile(pile):\n",
    "    while not est_vide(pile):\n",
    "        a = depiler(pile)\n"
   ]
  },
  {
   "cell_type": "code",
   "execution_count": null,
   "metadata": {},
   "outputs": [],
   "source": [
    "pile_de_test = pile_aleatoire()\n",
    "print('Avant vidange : ', pile_de_test)\n",
    "vider_pile(pile_de_test)\n",
    "print('Après vidange : ', pile_de_test)"
   ]
  },
  {
   "cell_type": "markdown",
   "metadata": {},
   "source": [
    "## I . 2 : avec un tableau encapsulé dans une classe `Pile`"
   ]
  },
  {
   "cell_type": "markdown",
   "metadata": {},
   "source": [
    "  Compléter le code de la classe `Pile` ci-dessous afin qu'elle dispose des fonctionnalités indiquées sur cet exemple d'utilisation. Cette classe `Pile` ne disposera que d'un seul attribut `p` qui sera un tableau initialisé par le constructeur comme un tableau vide.\n",
    "```\n",
    "ma_pile = Pile()             # ma_pile.p = []\n",
    "ma_pile.empiler(7)           # ma_pile.p = [7]\n",
    "ma_pile.empiler(8)           # ma_pile.p = [7, 8]\n",
    "a = ma_pile.depiler()        # ma_pile.p = [7]        et a = 8\n",
    "ma_pile.empiler(0)           # ma_pile.p = [7, 0]\n",
    "a = ma_pile.depiler()        # ma_pile.p = [7]        et a = 0\n",
    "ma_pile.est_vide()           # False\n",
    "print(ma_pile)               # affiche `[7]`\n",
    "```\n",
    "\n",
    "\n",
    "Remarque : pour la méthode `__repr__`, il suffira de convertir le tableau (stocké dans l'attribut `p`) grâce à la méthode `str` de Python."
   ]
  },
  {
   "cell_type": "code",
   "execution_count": null,
   "metadata": {},
   "outputs": [],
   "source": [
    "class Pile:\n",
    "    '''Classe implémentant une structure de pile'''\n",
    "    \n",
    "    def __init__(self):\n",
    "        self.p = []\n",
    "        \n",
    "    def empiler(self, element):\n",
    "        pass\n",
    "    \n",
    "    def depiler(self):\n",
    "        pass\n",
    "    \n",
    "    def est_vide(self):\n",
    "        pass\n",
    "    \n",
    "    def __repr__(self):\n",
    "        pass"
   ]
  },
  {
   "cell_type": "markdown",
   "metadata": {},
   "source": [
    "<div class = \"alert alert-danger\">\n",
    "\n",
    "\n",
    "### Correction"
   ]
  },
  {
   "cell_type": "code",
   "execution_count": null,
   "metadata": {},
   "outputs": [],
   "source": [
    "class Pile:\n",
    "    '''Classe implémentant une structure de pile'''\n",
    "    \n",
    "    def __init__(self):\n",
    "        self.p = []\n",
    "        \n",
    "    def empiler(self, element):\n",
    "        self.p.append(element)\n",
    "    \n",
    "    def depiler(self):\n",
    "        assert not self.est_vide()\n",
    "        return self.p.pop()\n",
    "    \n",
    "    def est_vide(self):\n",
    "        return len(self.p) == 0\n",
    "    \n",
    "    def __repr__(self):\n",
    "        return str(self.p)"
   ]
  },
  {
   "cell_type": "markdown",
   "metadata": {},
   "source": [
    "<div class = \"alert alert-info\">\n",
    "    \n",
    "    \n",
    "**Question :**  \n",
    "Ecrire dans la cellule ci-dessous les instructions permettant de créer une pile `ma_pile` et un entier `a` puis de les mettre dans les états successifs suivants :\n",
    "    \n",
    "```\n",
    "a = 0\n",
    "ma_pile.p = []\n",
    "ma_pile.p = [12]  \n",
    "ma_pile.p = [12, 14]  \n",
    "ma_pile.p = [12, 14, 8]  \n",
    "ma_pile.p = [12,14]        et a = 8\n",
    "ma_pile.p = [12, 14, 16]\n",
    "ma_pile.p = [12, 14]       et a = 16\n",
    "ma_pile.p = [12]           et a = 14 \n",
    "ma_pile.p = []             et a = 12\n",
    "```"
   ]
  },
  {
   "cell_type": "code",
   "execution_count": null,
   "metadata": {},
   "outputs": [],
   "source": []
  },
  {
   "cell_type": "markdown",
   "metadata": {},
   "source": [
    "<div class = \"alert alert-danger\">\n",
    "\n",
    "\n",
    "### Correction"
   ]
  },
  {
   "cell_type": "code",
   "execution_count": null,
   "metadata": {},
   "outputs": [],
   "source": [
    "a = 0\n",
    "ma_pile = Pile()\n",
    "print(ma_pile)\n",
    "ma_pile.empiler(12)\n",
    "print(ma_pile)\n",
    "ma_pile.empiler(14)\n",
    "print(ma_pile)\n",
    "ma_pile.empiler(8)\n",
    "print(ma_pile)\n",
    "a = ma_pile.depiler()\n",
    "print(ma_pile)\n",
    "ma_pile.empiler(16)\n",
    "print(ma_pile)\n",
    "a = ma_pile.depiler()\n",
    "print(ma_pile)\n",
    "a = ma_pile.depiler()\n",
    "print(ma_pile)\n",
    "a = ma_pile.depiler()\n",
    "print(ma_pile)"
   ]
  },
  {
   "cell_type": "markdown",
   "metadata": {},
   "source": [
    "<div class = \"alert alert-info\">\n",
    "    \n",
    "    \n",
    "**Question :**  \n",
    "Avec cette implémentation, l'utilisateur de la classe `Pile` a-t-il besoin d'accéder à l'attribut `p` (dit autrement, a-t-il besoin d'écrire `ma_pile.p` dans du code qui utilise cette classe) ?"
   ]
  },
  {
   "cell_type": "markdown",
   "metadata": {},
   "source": [
    "<div class = \"alert alert-danger\">\n",
    "\n",
    "\n",
    "### Correction"
   ]
  },
  {
   "cell_type": "code",
   "execution_count": null,
   "metadata": {},
   "outputs": [],
   "source": [
    "Non"
   ]
  },
  {
   "cell_type": "markdown",
   "metadata": {},
   "source": [
    "<div class = \"alert alert-info\">\n",
    "    \n",
    "Compte-tenu de la réponse à la question précédente, on dit que `p` est un attribut **privé** de la classe : il n'a pas à être manipulé par les utilisateurs de la classe, il doit rester uniquement à usage interne de la classe (d'où l'adjectif privé par opposition à public). Pour indiquer cela en Python, on préfixe le nom de l'attribut par un underscore `_` : ainsi il est conseillé de remlplacer `p` par `_p`. Cela ne change strictement rien : un utilisateur pourra toujours y accéder mais il saura, en le faisant, que normalement il n'a pas à le faire ...  \n",
    "    \n",
    "    \n",
    "**Question :**  \n",
    "Effectuer les modifications dans le code de la classe `Pile` : remplacer tous les attributs `p` par `_p`\n"
   ]
  },
  {
   "cell_type": "markdown",
   "metadata": {},
   "source": [
    "# II : Implémentations de files"
   ]
  },
  {
   "cell_type": "markdown",
   "metadata": {},
   "source": [
    "## II . 1 : avec un tableau\n",
    "\n",
    "On rappelle qu'en Python la méthode `append` permet d'ajouter un élement *à la fin* d'un tableau (de type `list`) et que la méthode `pop` permet de retirer un élément *à la fin* d'un tableau en renvoyant cet élément.  \n",
    "Pour implémenter une file il faut soit rajouter les éléments *au début* du tableau soit retirer les éléments *du début* du tableau :\n",
    "- pour ajouter un élément `elt` *au début* d'un tableau `tab` on peut utiliser `tab.insert(0, elt)`,\n",
    "- pour retirer et récupérer l'élément situé *au début* d'un tableau `tab` (c'est à dire d'indice `0`), on peut utiliser `tab.pop(0)`.\n",
    "\n",
    "On souhaite se baser sur ces fonctionnalités pour implémenter une file qui sera en fait un tableau `file`. \n",
    "\n",
    "Ce tableau sera initialement créé par un appel à la fonction `filevide`. Puis il sera utilisé de la fonction suivante par exemple :\n",
    "```\n",
    "ma_file = filevide()        # ma_file = []\n",
    "enfiler(7, ma_file)         # ma_file = [7]\n",
    "enfiler(8, ma_file)         # ma_file = [7, 8]\n",
    "a = defiler(ma_file)        # ma_file = [8]        et a = 7\n",
    "enfiler(0, ma_file)         # ma_file = [8, 0]\n",
    "a = defiler(ma_file)        # ma_file = [0]        et a = 8\n",
    "est_vide(ma_file)           # False\n",
    "```"
   ]
  },
  {
   "cell_type": "markdown",
   "metadata": {},
   "source": [
    "<div class = \"alert alert-info\">\n",
    "    \n",
    "    \n",
    "**Question :**   \n",
    "On considère l'implémentation incomplète suivante de fonctions permettant de gérer une file à l'aide d'un tableau (de type `list`).\n",
    "Compléter les fonctions `enfiler` et `defiler` qui doivent permettre d'exécuter les exemples d'instructions indiquées ci-dessus.\n"
   ]
  },
  {
   "cell_type": "code",
   "execution_count": null,
   "metadata": {},
   "outputs": [],
   "source": [
    "def filevide():\n",
    "    return []\n",
    "\n",
    "def enfiler(element, file):\n",
    "    pass #à compléter\n",
    "    \n",
    "def defiler(file):\n",
    "    assert file != []\n",
    "    pass #à compléter\n",
    "\n",
    "def est_vide(file):\n",
    "    return file == []"
   ]
  },
  {
   "cell_type": "markdown",
   "metadata": {},
   "source": [
    "<div class = \"alert alert-danger\">\n",
    "\n",
    "\n",
    "### Correction"
   ]
  },
  {
   "cell_type": "code",
   "execution_count": null,
   "metadata": {},
   "outputs": [],
   "source": [
    "def filevide():\n",
    "    return []\n",
    "\n",
    "def enfiler(element, file):\n",
    "    file.append(element)\n",
    "    \n",
    "def defiler(file):\n",
    "    assert file != []\n",
    "    return file.pop(0)\n",
    "\n",
    "def est_vide(file):\n",
    "    return file == []"
   ]
  },
  {
   "cell_type": "markdown",
   "metadata": {},
   "source": [
    "<div class = \"alert alert-info\">\n",
    "    \n",
    "    \n",
    "**Question :**  \n",
    "Ecrire dans la cellule ci-dessous les instructions permettant de créer une file `ma_file` et un entier `a` puis de les mettre dans les états successifs suivants :\n",
    "    \n",
    "```\n",
    "a = 0\n",
    "ma_file = []\n",
    "ma_file = [12]  \n",
    "ma_file = [12, 14]  \n",
    "ma_file = [12, 14, 8]  \n",
    "ma_file = [14, 8]        et a = 12\n",
    "ma_file = [14, 8, 16]\n",
    "ma_file = [8, 16]        et a = 14\n",
    "ma_file = [16]           et a = 8 \n",
    "ma_file = []             et a = 16\n",
    "```"
   ]
  },
  {
   "cell_type": "markdown",
   "metadata": {},
   "source": [
    "<div class = \"alert alert-danger\">\n",
    "\n",
    "\n",
    "### Correction"
   ]
  },
  {
   "cell_type": "code",
   "execution_count": null,
   "metadata": {},
   "outputs": [],
   "source": [
    "a = 0\n",
    "ma_file = filevide()\n",
    "print(ma_file)\n",
    "enfiler(12, ma_file)\n",
    "print(ma_file)\n",
    "enfiler(14, ma_file)\n",
    "print(ma_file)\n",
    "enfiler(8, ma_file)\n",
    "print(ma_file)\n",
    "a = defiler(ma_file)\n",
    "print(ma_file)\n",
    "enfiler(16, ma_file)\n",
    "print(ma_file)\n",
    "a = defiler(ma_file)\n",
    "print(ma_file)\n",
    "a = defiler(ma_file)\n",
    "print(ma_file)\n",
    "a = defiler(ma_file)\n",
    "print(ma_file)"
   ]
  },
  {
   "cell_type": "markdown",
   "metadata": {},
   "source": [
    "<div class = \"alert alert-info\">\n",
    "    \n",
    "    \n",
    "**Questions :**  \n",
    "    \n",
    "- Avec l'implémentation ci-dessus, que se passe-t-il si on cherche à défiler une file déjà vide ?  \n",
    "    \n",
    "- Quel mot-clef permet - dans la fonction `defiler` - de gérer cela en Python ?\n",
    "    \n",
    "- Est-ce que cette implémentation respecte le paradigme fonctionnel ? Dans quelle(s) fonction(s) est-ce visible ?"
   ]
  },
  {
   "cell_type": "markdown",
   "metadata": {},
   "source": [
    "<div class = \"alert alert-danger\">\n",
    "\n",
    "\n",
    "### Correction"
   ]
  },
  {
   "cell_type": "markdown",
   "metadata": {},
   "source": [
    "- on obtient une erreur\n",
    "- `assert`\n",
    "- non, c'est visible dans les fonctions défiler et enfiler"
   ]
  },
  {
   "cell_type": "markdown",
   "metadata": {},
   "source": [
    "<div class = \"alert alert-info\">\n",
    "\n",
    "\n",
    "On rappelle que la méthode `perf_counter` du module time permet d'obtenir un temps précis, exprimé en secondes, et calculé à partir de la machine exécutant le code Python. En utilisant deux fois cette méthode et en faisant la différence des deux valeurs renvoyées on peut donc chronométrer une durée.  \n",
    "    \n",
    "    \n",
    "**Questions :**  \n",
    "Le code ci-dessous permet de chronométrer le temps mis, en secondes, pour effectuer X empilements/dépilages dans une pile contenant initialement N éléments.  \n",
    "- Combien valent X et N ?  \n",
    "- Quelle est la durée nécessaire pour effectuer ces X empilements/dépilages ?  \n",
    "    \n"
   ]
  },
  {
   "cell_type": "code",
   "execution_count": null,
   "metadata": {},
   "outputs": [],
   "source": [
    "from time import perf_counter\n",
    "\n",
    "ma_pile = pilevide()\n",
    "for i in range(500000):\n",
    "    empiler(7, ma_pile)\n",
    "    \n",
    "debut = perf_counter()\n",
    "for i in range(10000):\n",
    "    empiler(7, ma_pile)\n",
    "    depiler(ma_pile)\n",
    "fin = perf_counter()\n",
    "\n",
    "print(fin-debut)"
   ]
  },
  {
   "cell_type": "markdown",
   "metadata": {},
   "source": [
    "<div class = \"alert alert-danger\">\n",
    "\n",
    "\n",
    "### Correction"
   ]
  },
  {
   "cell_type": "markdown",
   "metadata": {},
   "source": [
    "- N vaut 500000 et X vaut 10000\n",
    "- voir la valeur affichée (en secondes)"
   ]
  },
  {
   "cell_type": "markdown",
   "metadata": {},
   "source": [
    "<div class = \"alert alert-info\">\n",
    "\n",
    "\n",
    "**Questions :**  \n",
    "Modifier le code ci-dessous pour qu'il fasse la même chose que ci-dessus mais avec une file.  \n",
    "- Quelle est la durée nécessaire pour effectuer ces X enfilages/défilages ?  \n",
    "- La comparer à celle nécessaire pour les X empilements/dépilages.\n",
    "- En mobilisant vos connaissances de la classe de première sur les tableaux Python, vous rappelez vous pourquoi cette durée est nettement supérieure à celle nécessaire pour les piles (ne passez pas plus de deux minutes sur cette question, si vous séchez parce que vous avez oublié cette information ce sera rappelé dans le cours) ?"
   ]
  },
  {
   "cell_type": "code",
   "execution_count": null,
   "metadata": {},
   "outputs": [],
   "source": [
    "from time import perf_counter\n",
    "\n",
    "ma_pile = pilevide()\n",
    "for i in range(500000):\n",
    "    empiler(7, ma_pile)\n",
    "    \n",
    "debut = perf_counter()\n",
    "for i in range(10000):\n",
    "    empiler(7, ma_pile)\n",
    "    depiler(ma_pile)\n",
    "fin = perf_counter()\n",
    "\n",
    "print(fin-debut)"
   ]
  },
  {
   "cell_type": "markdown",
   "metadata": {},
   "source": [
    "<div class = \"alert alert-danger\">\n",
    "\n",
    "\n",
    "### Correction"
   ]
  },
  {
   "cell_type": "code",
   "execution_count": null,
   "metadata": {},
   "outputs": [],
   "source": [
    "from time import perf_counter\n",
    "\n",
    "ma_file = filevide()\n",
    "for i in range(500000):\n",
    "    enfiler(7, ma_file)\n",
    "    \n",
    "debut = perf_counter()\n",
    "for i in range(10000):\n",
    "    enfiler(7, ma_file)\n",
    "    defiler(ma_file)\n",
    "fin = perf_counter()\n",
    "\n",
    "print(fin-debut)"
   ]
  },
  {
   "cell_type": "markdown",
   "metadata": {},
   "source": [
    "- voir la valeur affichée\n",
    "- elle est beaucoup plus grande\n",
    "- le `pop(0)` coûte très cher (nécessite de décaler tous les éléments du tableau)"
   ]
  },
  {
   "cell_type": "markdown",
   "metadata": {},
   "source": [
    "## II . 2 : avec deux piles dans une classe `File`"
   ]
  },
  {
   "cell_type": "markdown",
   "metadata": {},
   "source": [
    "On souhaite implémenter une classe File mais on ne souhaite pas utiliser de tableau pour éviter le problème mentionné ci-dessus. Une façon de procéder est d'utiliser deux piles pour implémenter une file. C'est un mécanisme que vous connaissez sans doute. \n",
    "\n",
    "En effet on peut faire l'analogie avec les jeux de carte pour lesquels tous les joueurs partagent :\n",
    "- une pile de défausse (où l'on empile les cartes qui ont été jouées, face vers le dessus),\n",
    "- une pile de pioche (où les joueurs piochent les cartes, face vers le bas, lorsque c'est leur tour de jouer).  \n",
    "\n",
    "Pour un tel jeu, lorsqu'un joueur doit piocher une carte alors que la pioche est vide il suffit de prendre la pile de défausse, de la retourner et cela devient la pile de pioche.\n",
    "\n",
    "Voici un exemple en images : la pile de gauche est la défausse (nous l'appellerons l'`entree`) et la pile de droite est la pioche (nous l'appellerons la `sortie`). L'ensemble des deux piles constitue la file que l'on souhaite implémenter. \n",
    "\n",
    "On constate sans peine, pour ceux qui n'en seraient pas convaincus, que les éléments sont bien défilés dans le même ordre qu'ils ont été enfilés (FIFO).\n",
    "\n",
    "\n",
    "<img src=\"datas_notebook_exemples_de_cours/file_avec_deux_piles.png\" />"
   ]
  },
  {
   "cell_type": "markdown",
   "metadata": {},
   "source": [
    "  Compléter le code de la classe `File` ci-dessous en prenant en compte les informations ci-dessous :  \n",
    "- Cette classe `File` disposera de deux attributs `_entree` et `_sortie` qui seront des piles initialisées par le constructeur comme des piles vides.  \n",
    "\n",
    "- Elle disposera d'une méthode privée (à usage interne) `_transfert` permettant de transférer le contenu de la pile `_entree` sur la pile `_sortie`.  \n",
    "  \n",
    "- Elle utilisera une classe `Pile` importée du module `module_Pile`. Cette classe `Pile` disposant des méthodes usuelles `empiler(element)`, `depiler()` et `est_vide()`.  \n",
    "\n",
    "Voici un exemple d'utilisation de cette classe Pile :  \n",
    "\n",
    "```\n",
    "ma_file = File()             # ma_file._entree = []       et ma_file._sortie = []\n",
    "ma_file.enfiler(7)           # ma_file._entree = [7]      et ma_file._sortie = []\n",
    "ma_file.enfiler(8)           # ma_file._entree = [7, 8]   et ma_file._sortie = []\n",
    "a = ma_file.defiler()        # ma_file._entree = []       et ma_file._sortie = [8]        et a = 7\n",
    "ma_file.enfiler(0)           # ma_file._entree = [0]      et ma_file._sortie = [8]\n",
    "a = ma_file.defiler()        # ma_file._entree = [0]      et ma_file._sortie = []         et a = 0\n",
    "ma_file.est_vide()           # False\n",
    "```"
   ]
  },
  {
   "cell_type": "code",
   "execution_count": null,
   "metadata": {},
   "outputs": [],
   "source": [
    "from module_pile import Pile\n",
    "\n",
    "class File:\n",
    "    '''Classe implémentant une structure de file grâce à deux piles'''\n",
    "    \n",
    "    def __init__(self):\n",
    "        self._entree = Pile()\n",
    "        self._sortie = Pile()\n",
    "    \n",
    "    def _transfert(self):\n",
    "        pass\n",
    "        \n",
    "    def enfiler(self, element):\n",
    "        pass\n",
    "    \n",
    "    def defiler(self):\n",
    "        pass\n",
    "    \n",
    "    def est_vide(self):\n",
    "        pass\n",
    "    \n",
    "    def __repr__(self):\n",
    "        # cette fonction est facultative : on pourra utiliser str(self._entree) et str(self._sortie)\n",
    "        # et voir ce qu'il faut en faire ...\n",
    "        pass"
   ]
  },
  {
   "cell_type": "markdown",
   "metadata": {},
   "source": [
    "<div class = \"alert alert-danger\">\n",
    "\n",
    "\n",
    "### Correction"
   ]
  },
  {
   "cell_type": "code",
   "execution_count": null,
   "metadata": {},
   "outputs": [],
   "source": [
    "from module_pile import Pile\n",
    "\n",
    "class File:\n",
    "    '''Classe implémentant une structure de file grâce à deux piles'''\n",
    "    \n",
    "    def __init__(self):\n",
    "        self._entree = Pile()\n",
    "        self._sortie = Pile()\n",
    "    \n",
    "    def _transfert(self):\n",
    "        while not self._entree.est_vide():\n",
    "            self._sortie.empiler(self._entree.depiler())\n",
    "        \n",
    "    def enfiler(self, element):\n",
    "        self._entree.empiler(element)\n",
    "    \n",
    "    def defiler(self):\n",
    "        assert not self.est_vide()\n",
    "        if self._sortie.est_vide():\n",
    "            self._transfert()\n",
    "        return self._sortie.depiler()\n",
    "    \n",
    "    def est_vide(self):\n",
    "        return (self._entree.est_vide() and self._sortie.est_vide())\n",
    "    \n",
    "    def __repr__(self):\n",
    "        s = str(self._sortie)\n",
    "        res = str(self._entree)\n",
    "        for car in s:\n",
    "            res = car + res\n",
    "        return res\n",
    "        "
   ]
  },
  {
   "cell_type": "markdown",
   "metadata": {},
   "source": [
    "<div class = \"alert alert-info\">\n",
    "    \n",
    "    \n",
    "**Question :**  \n",
    "Tester le fonctionnement de votre classe `File` en écrivant dans la cellule ci-dessous des instructions bien choisies."
   ]
  },
  {
   "cell_type": "code",
   "execution_count": null,
   "metadata": {},
   "outputs": [],
   "source": [
    "from random import choice\n",
    "\n",
    "\n",
    "\n",
    "\n",
    "\n",
    "\n",
    "\n",
    "\n",
    "\n",
    "\n"
   ]
  },
  {
   "cell_type": "markdown",
   "metadata": {},
   "source": [
    "<div class = \"alert alert-danger\">\n",
    "\n",
    "\n",
    "### Correction"
   ]
  },
  {
   "cell_type": "code",
   "execution_count": null,
   "metadata": {},
   "outputs": [],
   "source": [
    "ma_file = File()\n",
    "for i in range(5):\n",
    "    ma_file.enfiler(choice('OX-*'))\n",
    "    print(ma_file)\n",
    "s = ma_file.defiler()\n",
    "print(ma_file)\n",
    "for i in range(7):\n",
    "    ma_file.enfiler(choice('OX-*'))\n",
    "    print(ma_file)\n",
    "for i in range(6):\n",
    "    s = ma_file.defiler()\n",
    "    print(ma_file)\n",
    "for i in range(7):\n",
    "    ma_file.enfiler(choice('OX-*'))\n",
    "    print(ma_file)\n",
    "while not ma_file.est_vide():\n",
    "    s = ma_file.defiler()\n",
    "    print(ma_file)"
   ]
  },
  {
   "cell_type": "code",
   "execution_count": null,
   "metadata": {},
   "outputs": [],
   "source": []
  }
 ],
 "metadata": {
  "kernelspec": {
   "display_name": "Python 3",
   "language": "python",
   "name": "python3"
  },
  "language_info": {
   "codemirror_mode": {
    "name": "ipython",
    "version": 3
   },
   "file_extension": ".py",
   "mimetype": "text/x-python",
   "name": "python",
   "nbconvert_exporter": "python",
   "pygments_lexer": "ipython3",
   "version": "3.8.2"
  }
 },
 "nbformat": 4,
 "nbformat_minor": 4
}
