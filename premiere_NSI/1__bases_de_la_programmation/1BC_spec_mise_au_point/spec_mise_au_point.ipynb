{
 "cells": [
  {
   "cell_type": "markdown",
   "metadata": {},
   "source": [
    "# Spécifications et Mise au point de programmes"
   ]
  },
  {
   "cell_type": "markdown",
   "metadata": {},
   "source": [
    "La condition dans l'assertion ci-dessous est fausse : Python lève un exception lorsque vous exécutez la cellule."
   ]
  },
  {
   "cell_type": "code",
   "execution_count": null,
   "metadata": {},
   "outputs": [],
   "source": [
    "assert(10 == (6 + 6))"
   ]
  },
  {
   "cell_type": "markdown",
   "metadata": {},
   "source": [
    "La condition dans l'assertion ci-dessous est vraie : Python ne lève pas d'exception lorsque vous exécutez la cellule."
   ]
  },
  {
   "cell_type": "code",
   "execution_count": null,
   "metadata": {},
   "outputs": [],
   "source": [
    "assert(\"G\" in \"ARGHHH\")"
   ]
  },
  {
   "cell_type": "markdown",
   "metadata": {},
   "source": [
    "## Exercice 1"
   ]
  },
  {
   "cell_type": "markdown",
   "metadata": {},
   "source": [
    "<div class=\"alert alert-info\">\n",
    "\n",
    "- Parmi les assertions ci-dessous, indiquer les numéros de ligne de celles qui peuvent lever une exception (Attention : on réfléchit pour avoir la réponse, on n'exécute pas la cellule de code !)  \n",
    "*Votre réponse ici ...*\n",
    "\n",
    "\n",
    "- Vérifier votre réponse en : \n",
    "   - Exécutant la cellule de code : Python va alors vous indiquer la première assertion qui lève une exception. \n",
    "   - La modifier pour qu'elle ne lève pas d'exception\n",
    "   - Re-exécuter la cellule de code : Python va alors vous indiquer la seconde assertion qui lève une exception.\n",
    "   - La modifier pour qu'elle ne lève pas d'exception\n",
    "   - Re-exécuter la cellule de code : Python va alors vous indiquer la troisième assertion qui lève une exception.\n",
    "   - etc."
   ]
  },
  {
   "cell_type": "code",
   "execution_count": null,
   "metadata": {},
   "outputs": [],
   "source": [
    "import random\n",
    "\n",
    "assert(65 in range(1,65))\n",
    "assert(56+44 == 100)\n",
    "assert(3*6 != 18)\n",
    "assert('fghi' in 'abcdefghijklm')\n",
    "assert(40 in range(1, 100, 13))\n",
    "assert(random.randint(1,6)==6)\n"
   ]
  },
  {
   "cell_type": "markdown",
   "metadata": {},
   "source": [
    "## Exercice 2\n",
    "\n",
    "On souhaite mettre en oeuvre une fonction <code>alphabet</code> qui correspond à l'idée que l'on se fait de \"Trouver la i-ième lettre de l'alphabet\"\n",
    "Cette fonction devra vérifier le jeu de tests unitaires ci-dessous :"
   ]
  },
  {
   "cell_type": "code",
   "execution_count": null,
   "metadata": {},
   "outputs": [],
   "source": [
    "assert(alphabet(1) == \"A\")\n",
    "assert(alphabet(2) == \"B\")\n",
    "assert(alphabet(11) == \"J\")\n",
    "assert(alphabet(26) == \"Z\")"
   ]
  },
  {
   "cell_type": "markdown",
   "metadata": {},
   "source": [
    "<div class=\"alert alert-info\">\n",
    "\n",
    "- Il y a une erreur dans le jeu de tests unitaires : la corriger.  \n",
    "\n",
    "\n",
    "- Prototyper la fonction <code>alphabet</code>.  \n",
    "*Votre réponse ici ...* \n",
    "\n",
    "\n",
    "- Décrire des préconditions sur les arguments de cette fonction.  \n",
    "*Votre réponse ici...*  \n",
    "\n",
    "\n",
    "- Donner, par une phrase en langage naturel, les postconditions sur la valeur de retour (on pourra reprendre une partie de l'énoncé ci-dessus).  \n",
    "*Votre réponse ici...*\n",
    "\n"
   ]
  },
  {
   "cell_type": "markdown",
   "metadata": {},
   "source": [
    "Pour la question suivante il vous sera très utile d'avoir compris comment on peut - grâce aux crochets \\[    \\] - accéder à un certain caractère d'une chaîne de caractères (jouer un peu avec les deux instructions ci-dessous si besoin) :"
   ]
  },
  {
   "cell_type": "code",
   "execution_count": null,
   "metadata": {},
   "outputs": [],
   "source": [
    "ma_chaine = \"AEIOUY\"\n",
    "ma_chaine[4]"
   ]
  },
  {
   "cell_type": "markdown",
   "metadata": {},
   "source": [
    "<div class=\"alert alert-info\">\n",
    "\n",
    "- Programmer la fonction <code>alphabet</code> dans la cellule ci-dessous. **On n'utilisera pas de conditionnelle**, en revanche on se servira de crochets \\[ \\]."
   ]
  },
  {
   "cell_type": "code",
   "execution_count": null,
   "metadata": {},
   "outputs": [],
   "source": [
    "#début de votre code pour programmer la fonction alphabet\n",
    "\n",
    "\n",
    "\n",
    "\n",
    "\n",
    "\n",
    "\n",
    "\n",
    "\n",
    "#fin de votre code\n",
    "#début des tests\n",
    "assert(alphabet(1) == \"A\")\n",
    "assert(alphabet(2) == \"B\")\n",
    "assert(alphabet(11) == \"J\")\n",
    "assert(alphabet(26) == \"Z\")\n",
    "#fin des tests"
   ]
  },
  {
   "cell_type": "markdown",
   "metadata": {},
   "source": [
    "## Exercice 3\n",
    "\n",
    "On souhaite mettre en oeuvre une fonction <code>ablation</code> qui enlève toutes les consonnes d'une chaîne de caractères."
   ]
  },
  {
   "cell_type": "markdown",
   "metadata": {},
   "source": [
    "<div class=\"alert alert-info\">\n",
    "\n",
    "- Ecrire un jeu de tests unitaires pour cette fonction dans la cellule ci-dessous :"
   ]
  },
  {
   "cell_type": "code",
   "execution_count": null,
   "metadata": {},
   "outputs": [],
   "source": [
    "#Votre réponse ici ..."
   ]
  },
  {
   "cell_type": "markdown",
   "metadata": {},
   "source": [
    "<div class=\"alert alert-info\">\n",
    "\n",
    "- **Au brouillon :** prototyper cette fonction, trouver d'éventuelles préconditions et déterminer les postconditions.  \n",
    "\n",
    "\n",
    "- Mettre cela au propre en écrivant la spécification de cette question :\n",
    "*Votre réponse ici...*\n",
    "\n"
   ]
  },
  {
   "cell_type": "markdown",
   "metadata": {},
   "source": [
    "Pour la question suivante vous pourrez utiliser des instructions comme l'instruction suivante. N'hésitez pas à jouer avec pour voir comment on peut, par exemple, enlever les <code>o</code> d'une chaîne de caractères (il suffit de les remplacer par ...) :"
   ]
  },
  {
   "cell_type": "code",
   "execution_count": 3,
   "metadata": {},
   "outputs": [
    {
     "data": {
      "text/plain": [
       "'BKnjKur tKut le mKnde'"
      ]
     },
     "execution_count": 3,
     "metadata": {},
     "output_type": "execute_result"
    }
   ],
   "source": [
    "ma_chaine = \"Bonjour tout le monde\"\n",
    "ma_chaine.replace(\"o\", \"K\")"
   ]
  },
  {
   "cell_type": "markdown",
   "metadata": {},
   "source": [
    "<div class=\"alert alert-info\">\n",
    "\n",
    "- Programmer la fonction <code>ablation</code>dans la cellule ci-dessous (en testant votre fonction avec le jeu de tests unitaires que vous avez élaboré pour vérifier le fonctionnement de votre fonction)."
   ]
  },
  {
   "cell_type": "code",
   "execution_count": 3,
   "metadata": {},
   "outputs": [
    {
     "data": {
      "text/plain": [
       "'au e oai'"
      ]
     },
     "execution_count": 3,
     "metadata": {},
     "output_type": "execute_result"
    }
   ],
   "source": [
    "def ablation_v2(texte):\n",
    "    '''\n",
    "    retourne un texte obtenu en\n",
    "    enlevant du texte initial\n",
    "    toutes les consonnes\n",
    "    '''\n",
    "    S = \"\"\n",
    "    for car in texte:\n",
    "        if car in \"aeiouy \":\n",
    "            S = S + car\n",
    "    return S\n",
    "\n",
    "\n",
    "ablation_v2(\"salut les copains\")"
   ]
  },
  {
   "cell_type": "markdown",
   "metadata": {},
   "source": [
    "# Exercice 4\n",
    "\n",
    "On souhaite programmer une fonction <code>mediane_trois</code> qui prend en arguments trois nombres et retourne celui qui est \"situé entre les deux autres\"."
   ]
  },
  {
   "cell_type": "markdown",
   "metadata": {},
   "source": [
    "<div class=\"alert alert-info\">\n",
    "\n",
    "- Ecrire un jeu de cinq tests unitaires pour cette fonction dans la cellule ci-dessous :"
   ]
  },
  {
   "cell_type": "code",
   "execution_count": null,
   "metadata": {},
   "outputs": [],
   "source": [
    "#Votre réponse ici..."
   ]
  },
  {
   "cell_type": "markdown",
   "metadata": {},
   "source": [
    "<div class=\"alert alert-info\">\n",
    "- Rappeler quels sont les deux types de nombres qui existent en python.  \n",
    "*Votre réponse ici...*\n",
    "\n",
    "\n",
    "- Ecrire un prototype possible pour cette fonction. Pourquoi y a-t-il plusieurs prototypes envisageables ?  \n",
    "*Votre réponse ici...*\n",
    "\n",
    "\n",
    "- Ecrire la spécification de cette fonction. On prendra soin de formaliser à l'aide d'expressions mathématiques (utilisant sans doute les symboles <code><, >, <=</code> ou <code>>=</code>) les postconditions.  \n",
    "*Votre réponse ici...*  \n",
    "    \n",
    "    \n",
    "- Programmer une fonction <code>mediane_trois</code> qui satisfait les cinq tests unitaires que vous avez définis ci-dessus **mais** qui ne satisfait pas la spécification requise."
   ]
  },
  {
   "cell_type": "code",
   "execution_count": null,
   "metadata": {},
   "outputs": [],
   "source": [
    "#début de votre code pour programmer la fonction mediane_trois \"mal codée\"\n",
    "\n",
    "\n",
    "\n",
    "\n",
    "\n",
    "\n",
    "\n",
    "\n",
    "\n",
    "#fin de votre code\n",
    "#début des tests (Copier-Coller les tests-unitaires de la première question)\n",
    "\n",
    "\n",
    "\n",
    "\n",
    "\n",
    "\n",
    "#fin des tests"
   ]
  }
 ],
 "metadata": {
  "kernelspec": {
   "display_name": "Python 3",
   "language": "python",
   "name": "python3"
  },
  "language_info": {
   "codemirror_mode": {
    "name": "ipython",
    "version": 3
   },
   "file_extension": ".py",
   "mimetype": "text/x-python",
   "name": "python",
   "nbconvert_exporter": "python",
   "pygments_lexer": "ipython3",
   "version": "3.8.2"
  }
 },
 "nbformat": 4,
 "nbformat_minor": 2
}
