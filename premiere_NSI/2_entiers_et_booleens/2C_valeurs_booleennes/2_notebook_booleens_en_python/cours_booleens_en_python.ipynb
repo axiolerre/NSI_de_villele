{
 "cells": [
  {
   "cell_type": "markdown",
   "metadata": {},
   "source": [
    "# Cours : booléens et expressions booléennes en python\n",
    "\n",
    "<a id='sommaire'></a>\n",
    "## Sommaire\n",
    "\n",
    "[I : Présentation](#I)\n",
    "\n",
    "[II : Evaluation des expressions booléennes](#II)\n"
   ]
  },
  {
   "cell_type": "markdown",
   "metadata": {},
   "source": [
    "<a id='I'></a>\n",
    "## I : Présentation\n",
    "\n",
    "C'est George Boole qui, dans le milieu du XIXème siècle, a été le fondateur de l'algèbre booléenne.\n",
    "En informatique, on utilise couramment en programmation un type de variables qualifié de booléen. Ce type accepte deux états généralement notés ***True(Vrai)*** et ***False(Faux)*** ou alors ***1*** et ***0***.\n",
    "\n",
    "La plupart des langages de programmation supportent les opérations booléennes.\n",
    "\n",
    "En Python les variables booléennes acceptent deux valeurs : <code>True</code>(Vrai) et <code>False</code>(Faux) (attention à la ***majuscule*** !!!)\n",
    "\n",
    "La fonction type() de Pyhon permet de connaitre le type de variable considéré; testez les codes ci dessous :"
   ]
  },
  {
   "cell_type": "code",
   "execution_count": null,
   "metadata": {},
   "outputs": [],
   "source": [
    "a = True\n",
    "type(a)"
   ]
  },
  {
   "cell_type": "code",
   "execution_count": null,
   "metadata": {},
   "outputs": [],
   "source": [
    "b = (2 == 3)\n",
    "b, type(b)"
   ]
  },
  {
   "cell_type": "code",
   "execution_count": null,
   "metadata": {},
   "outputs": [],
   "source": [
    "b = 4 > 3\n",
    "b, type(b)"
   ]
  },
  {
   "cell_type": "markdown",
   "metadata": {},
   "source": [
    "Les booléens sont souvent utilisés pour effectuer des tests de comparaison :"
   ]
  },
  {
   "cell_type": "code",
   "execution_count": null,
   "metadata": {},
   "outputs": [],
   "source": [
    "b = (4 == 2+2)\n",
    "c = (4 >= 2)\n",
    "d = (4 < 2)\n",
    "b, c, d"
   ]
  },
  {
   "cell_type": "markdown",
   "metadata": {},
   "source": [
    "Ces tests de comparaison sont eux-mêmes utilisés dans les instructions conditionnelles comme ci-dessous.\n"
   ]
  },
  {
   "cell_type": "code",
   "execution_count": null,
   "metadata": {},
   "outputs": [],
   "source": [
    "def signe_nombre(x):\n",
    "    '''Retourne la chaîne de caractères S indiquant le signe du nombre x'''\n",
    "    if x > 0:\n",
    "        S = 'positif'\n",
    "    elif x < 0: \n",
    "        S = 'négatif'\n",
    "    else:\n",
    "        S = 'nul'\n",
    "    return S\n",
    "\n",
    "signe_nombre(4), signe_nombre(-0.007), signe_nombre(0)"
   ]
  },
  {
   "cell_type": "markdown",
   "metadata": {},
   "source": [
    "Ces tests de comparaison peuvent aussi être utilisés dans des boucles conditionnelles comme ci-dessous."
   ]
  },
  {
   "cell_type": "code",
   "execution_count": null,
   "metadata": {},
   "outputs": [],
   "source": [
    "import random\n",
    "def attendre_le_jackpot():\n",
    "    '''\n",
    "    Effectue des tirages au sort entre 000 et 999 jusqu'à tomber sur 777 \n",
    "    et retourne le nombre de tirages nécessaires\n",
    "    '''\n",
    "    resultat = 0\n",
    "    nombre_tirages = 0\n",
    "    while resultat != 777:\n",
    "        resultat = random.randint(0,999)\n",
    "        nombre_tirages += 1\n",
    "    return nombre_tirages\n",
    "\n",
    "attendre_le_jackpot()\n",
    "    "
   ]
  },
  {
   "cell_type": "markdown",
   "metadata": {},
   "source": [
    "<a id='II'></a>\n",
    "## II : Evaluation des expressions booléennes\n",
    "\n",
    "En ce qui concerne les opérations booléennes, Python utilise les opérateurs <code>and</code>, <code>or</code> et <code>not</code> respectivement pour ***et***, ***ou*** et ***non***. Testez les codes ci dessous :"
   ]
  },
  {
   "cell_type": "code",
   "execution_count": null,
   "metadata": {},
   "outputs": [],
   "source": [
    "a = False\n",
    "b = True\n",
    "not a"
   ]
  },
  {
   "cell_type": "code",
   "execution_count": null,
   "metadata": {},
   "outputs": [],
   "source": [
    "a or b"
   ]
  },
  {
   "cell_type": "code",
   "execution_count": null,
   "metadata": {},
   "outputs": [],
   "source": [
    "a and b"
   ]
  },
  {
   "cell_type": "markdown",
   "metadata": {},
   "source": [
    "### Les ordres de priorité sont respectés"
   ]
  },
  {
   "cell_type": "code",
   "execution_count": null,
   "metadata": {},
   "outputs": [],
   "source": [
    "R = False and True or True\n",
    "print(R)\n",
    "\n",
    "S = (False and True) or True\n",
    "print(S)\n",
    "\n",
    "T = False and (True or True)\n",
    "print(T)"
   ]
  },
  {
   "cell_type": "markdown",
   "metadata": {},
   "source": [
    "<div class=\"alert alert-info\">\n",
    "    \n",
    "**Question** : Expliquez le résultat obtenu ci dessous :\n",
    "\n",
    "*Votre réponse ici*"
   ]
  },
  {
   "cell_type": "code",
   "execution_count": null,
   "metadata": {},
   "outputs": [],
   "source": [
    "if (a or b and a) : print(\"OK\")\n",
    "else : print (\"KO\")"
   ]
  },
  {
   "cell_type": "markdown",
   "metadata": {},
   "source": [
    "**Remarque :** dans le doute ou pour plus de lisibilité du code on peut rajouter des parenthèses même si elles seraient inutiles. Ainsi, selon la configuration de votre cerveau, vous trouverez peut-être que <code>(a and b) or c</code> se lit plus clairement que <code>a and b or c</code>. À vous de coder de la façon la plus claire possible."
   ]
  },
  {
   "cell_type": "markdown",
   "metadata": {},
   "source": [
    "### Evaluation séquentielle\n",
    "\n",
    "L'évaluation des expressions booléennes est séquentielle (on dit aussi paresseuse).\n",
    "Pour comprendre cela il fautsavoir que python, lors du calcul d'une expression booléenne, cherche d'abord à respecter les ordres de priorité puis, en cas de même priorité, évalue les expressions booléennes de gauche à droite.\n",
    "\n",
    "Dès que la valeur de l'expression est acquise, python n'évalue pas la suite de l'expression : c'est ce qu'on appelle l'évaluation séquentielle ou paresseuse.\n",
    "\n",
    "Maintenant, un exemple que vous comprendrez facilement avec des nombres. Supposez qu'on vous demande de calculer : $ 0 \\times \\big( 234 + 517 \\times 54 - 19 \\times (77 + 56) \\big) $ .\n",
    "\n",
    "Normalement, en lisant de gauche à droite, vous voyez immédiatement que $ 0\\times \\big(...\\big) $ va forcément vous donner zéro. Il est donc inutile de se fatiguer à calculer la parenthèse. Et en moins d'une seconde vous avez donc évalué ce calcul qui semblait fatigant ...\n",
    "\n",
    "Vous pourriez faire la même chose avec de booléens. Par exemple pour évaluer <code>(7>5) or [ not 3<0 and ((6 == 9-3) or not (4 == 6-3)) ]</code>. En effet vous avez tout de suite remarqué que <code>(7>5)</code> est égal à <code>True</code> et que <code>True or [...]</code> est égal à <code>True</code>. Il est donc inutile de sa fatiguer à évaluer ce qu'il y a dans les crochets. En réflechissant un peu sur ce qu'on a à faire, on peut donc se permettre d'être paresseux.\n",
    "    \n",
    "C'est exactement ce que fait python ... voyons si vous avez compris :"
   ]
  },
  {
   "cell_type": "code",
   "execution_count": null,
   "metadata": {},
   "outputs": [],
   "source": [
    "def contient_a(S):\n",
    "    '''renvoie True si la chaîne de caractères S contient le caractère 'a' et False sinon'''\n",
    "    print('fonction exécutée...')\n",
    "    return ('a' in S)\n",
    "\n",
    "print('--b1--')\n",
    "b1 = contient_a('Acapulco') and contient_a('Banana split')\n",
    "print('------')\n",
    "\n",
    "print('--b2--')\n",
    "b2 = contient_a('New-York') and contient_a('Waffle')\n",
    "print('------')"
   ]
  },
  {
   "cell_type": "markdown",
   "metadata": {},
   "source": [
    "<div class=\"alert alert-info\">\n",
    "    \n",
    "**Question** : Expliquer pourquoi, dans le code **ci-dessus**, lors de l'évaluation de b2, la fonction <code>contient_a</code> n'est exécutée qu'une seule fois.\n",
    "\n",
    "*Votre réponse ici*"
   ]
  },
  {
   "cell_type": "markdown",
   "metadata": {},
   "source": [
    "### Attention aux abus de conversion implicites\n",
    "\n",
    "Python effectue des conversions automatiques d'objets divers en booléens : il faut éviter d'utiliser cette possibilité, c'est une mauvaise pratique qui peut parfois conduire à des erreurs à l'exécution et, surtout, rend le code peu clair."
   ]
  },
  {
   "cell_type": "code",
   "execution_count": 2,
   "metadata": {},
   "outputs": [],
   "source": [
    "def dire_comment_est_converti(x):\n",
    "    if x:\n",
    "        return('l\\'argument est considéré comme un booléen True')\n",
    "    else:\n",
    "        return('l\\'argument est considéré comme un booléen False')"
   ]
  },
  {
   "cell_type": "code",
   "execution_count": 3,
   "metadata": {},
   "outputs": [
    {
     "data": {
      "text/plain": [
       "\"l'argument est considéré comme un booléen False\""
      ]
     },
     "execution_count": 3,
     "metadata": {},
     "output_type": "execute_result"
    }
   ],
   "source": [
    "a = ''\n",
    "b = ' '\n",
    "c = 'test'\n",
    "d = 7\n",
    "e = -3\n",
    "f = 0\n",
    "g = None\n",
    "dire_comment_est_converti(a)"
   ]
  },
  {
   "cell_type": "markdown",
   "metadata": {},
   "source": [
    "<div class=\"alert alert-info\">\n",
    "\n",
    "**Question** : En exécutant et modifiant la variable passée en argument à la fonction <code>dire_comment_est_converti</code> **ci-dessus**, dire comment est convertie automatiquement chacune des variables précédentes en booléen (modifier cette cellule pour donner vos réponses) :\n",
    "\n",
    "- a\n",
    "- b\n",
    "- c\n",
    "- d\n",
    "- e\n",
    "- f\n",
    "- g\n",
    "- h"
   ]
  },
  {
   "cell_type": "markdown",
   "metadata": {},
   "source": [
    "### Exercice"
   ]
  },
  {
   "cell_type": "markdown",
   "metadata": {},
   "source": [
    "Un examen  comporte 6 épreuves :\n",
    "- Français coefficient 1,\n",
    "- Anglais coefficient 2,\n",
    "- Philosophie coefficient 3,\n",
    "- Mathématiques coefficient 5,\n",
    "- Physique coefficient 1,\n",
    "- Informatique coefficient 5.\n",
    " \n",
    "Un étudiant est reçu si la moyenne littéraire est supérieure à 10 et la moyenne scientifique est supérieure à 12.\n",
    "Écrire une fonction `examen` qui a 6 arguments (les notes aux différents examens) et qui renvoie True ou False selon que l'étudiant est reçu ou pas.\n"
   ]
  },
  {
   "cell_type": "code",
   "execution_count": null,
   "metadata": {},
   "outputs": [],
   "source": []
  }
 ],
 "metadata": {
  "kernelspec": {
   "display_name": "Python 3",
   "language": "python",
   "name": "python3"
  },
  "language_info": {
   "codemirror_mode": {
    "name": "ipython",
    "version": 3
   },
   "file_extension": ".py",
   "mimetype": "text/x-python",
   "name": "python",
   "nbconvert_exporter": "python",
   "pygments_lexer": "ipython3",
   "version": "3.8.2"
  }
 },
 "nbformat": 4,
 "nbformat_minor": 2
}
