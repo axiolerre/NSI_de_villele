{
 "cells": [
  {
   "cell_type": "markdown",
   "metadata": {},
   "source": [
    "# Table de vérité d'une expression booléenne\n",
    "\n",
    "Les fonctions ci-dessous permettent d'afficher :\n",
    "- une ligne de caractères ( de longueur 1 ) dans ce qui ressemble à une ligne de tableaux. \n",
    "- une ligne de booléens dans ce qui ressemble à une ligne de tableaux.\n",
    "\n",
    "Exécutez la cellule pour observer ce qu'elles produisent."
   ]
  },
  {
   "cell_type": "code",
   "execution_count": 1,
   "metadata": {},
   "outputs": [
    {
     "name": "stdout",
     "output_type": "stream",
     "text": [
      "-------------------------\n",
      "|   A   |   B   |   Z   |\n",
      "-------------------------\n",
      "|   1   |   0   |   1   |\n",
      "-------------------------\n",
      "|   0   |   0   |   1   |\n"
     ]
    }
   ],
   "source": [
    "def ligne_en_tete(*chars):\n",
    "    '''Affiche une ligne de caractères (de longueur 1 !) passés en arguments'''\n",
    "    nb_chars = len(chars)\n",
    "    S = '-' * (nb_chars*8+ 1) + '\\n|'\n",
    "    for b in chars:\n",
    "        S = S + '   ' + b + '   |'\n",
    "    print(S)\n",
    "\n",
    "\n",
    "def ligne_de_bools(*bools):\n",
    "    '''Affiche une ligne de 0 et de 1 correspondant aux booléens passés en arguments'''\n",
    "    nb_bools = len(bools)\n",
    "    dico_conv = { False : '0', True : '1' }\n",
    "    S = '-' * (nb_bools*8+ 1) + '\\n|'\n",
    "    for b in bools:\n",
    "        S = S + '   ' + dico_conv[b] + '   |'\n",
    "    print(S)\n",
    "\n",
    "ligne_en_tete('A', 'B', 'Z')\n",
    "ligne_de_bools(True, False, True)\n",
    "ligne_de_bools(False, False, True)\n",
    "    "
   ]
  },
  {
   "cell_type": "markdown",
   "metadata": {},
   "source": [
    "<div class = \"alert alert-info\">\n",
    "\n",
    "**Question :** \n",
    "    \n",
    "Vous allez devoir vous servir de ces fonctions pour créer une fonction <code>dresser_table_verite_Z</code> qui permettra de dresser la table de vérité de <code>Z = (A and B) and (C or not D) or (E and not A)</code>. Vous devrez utiliser des boucles afin que votre code environ fasse moins de dix lignes.  \n",
    "\n",
    "\n",
    "Il s'agit d'un exercice de réflexion sur les boucles ... bonne réflexion !"
   ]
  },
  {
   "cell_type": "code",
   "execution_count": null,
   "metadata": {},
   "outputs": [],
   "source": [
    "def dresser_table_verite_Z():\n",
    "    pass\n",
    "    ## Votre code ici\n",
    "\n",
    "\n",
    "dresser_table_verite_Z()"
   ]
  },
  {
   "cell_type": "markdown",
   "metadata": {},
   "source": [
    "Licence Creative Commons CC – BY – SA , C. Lejeune et J. de Villèle"
   ]
  }
 ],
 "metadata": {
  "kernelspec": {
   "display_name": "Python 3",
   "language": "python",
   "name": "python3"
  },
  "language_info": {
   "codemirror_mode": {
    "name": "ipython",
    "version": 3
   },
   "file_extension": ".py",
   "mimetype": "text/x-python",
   "name": "python",
   "nbconvert_exporter": "python",
   "pygments_lexer": "ipython3",
   "version": "3.8.2"
  }
 },
 "nbformat": 4,
 "nbformat_minor": 2
}
