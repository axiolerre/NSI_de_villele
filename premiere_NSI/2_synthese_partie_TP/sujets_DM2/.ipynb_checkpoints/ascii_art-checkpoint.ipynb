{
 "cells": [
  {
   "cell_type": "markdown",
   "metadata": {},
   "source": [
    "## Objectif de cette activité\n",
    "\n",
    "L'objectif est de créer une fonction qui prend en entrée une chaîne de caractères <code>S</code> et retourne une chaîne de caractères <code>S_art_ascii</code> correspondant à cette chaîne convertie en art ascii. Pour cela on ira consulter le site de [PAT or JK](http://www.patorjk.com/software/taag/) pour voir de quoi il retourne.\n",
    "\n",
    "\n",
    "On choisira une police parmi celles proposées. On respectera les consignes suivantes :\n",
    "- éviter une police trop haute en nombre de lignes : cela rallongera le temps de programmation,\n",
    "- éviter une police dont des caractères se chevauchent parfois (par exemple la police graffiti dont le premier \"i\" est intact alors le second \"i\" est chevauché par le \"t\" précédent - voir ci-dessous),\n",
    "\n",
    "On souhaite programmer une fonction <code>convertir_en_art_ascii</code> qui effectue une conversion comme celles qui sont proposées (on se limitera à une seule police). \n",
    "\n",
    "\n",
    "**On pourra se limiter aux 10 premiers caractères de l'alphabet latin majuscule.**"
   ]
  },
  {
   "cell_type": "code",
   "execution_count": 1,
   "metadata": {},
   "outputs": [],
   "source": [
    "#avec la police Bulb\n",
    "#print(convertir_en_art_ascii(\"test\")) \n",
    "#____  ____  ___  ____ \n",
    "#(_  _)( ___)/ __)(_  _)\n",
    "#  )(   )__) \\__ \\  )(  \n",
    "# (__) (____)(___/ (__)   \n",
    "\n",
    "#avec la police Avatar\n",
    "#print(convertir_en_art_ascii(\"test\"))  \n",
    "#_____  _____ ____  _____ \n",
    "#/__ __\\/  __// ___\\/__ __\\\n",
    "#  / \\  |  \\  |    \\  / \\  \n",
    "#  | |  |  /_ \\___ |  | |  \n",
    "#  \\_/  \\____\\\\____/  \\_/ \n",
    "\n",
    "#avec la police Big-money-ne\n",
    "#print(convertir_en_art_ascii(\"test\")) \n",
    "#   /$$                           /$$    \n",
    "#  | $$                          | $$    \n",
    "# /$$$$$$    /$$$$$$   /$$$$$$$ /$$$$$$  \n",
    "#|_  $$_/   /$$__  $$ /$$_____/|_  $$_/  \n",
    "#  | $$    | $$$$$$$$|  $$$$$$   | $$    \n",
    "#  | $$ /$$| $$_____/ \\____  $$  | $$ /$$\n",
    "#  |  $$$$/|  $$$$$$$ /$$$$$$$/  |  $$$$/\n",
    "#   \\___/   \\_______/|_______/    \\___/  \n",
    "\n",
    "#avec la police Small-poison\n",
    "#print(convertir_en_art_ascii(\"test\")) \n",
    "#@@@@@@@ @@@@@@@@  @@@@@@ @@@@@@@ \n",
    "#  @!!   @@!      !@@       @!!   \n",
    "#  @!!   @!!!:!    !@@!!    @!!   \n",
    "#  !!:   !!:          !:!   !!:   \n",
    "#   :    : :: ::  ::.: :     :    \n",
    "\n",
    "#avec la police Fire-font\n",
    "#print(convertir_en_art_ascii(\"test\")) \n",
    "#    )             )  \n",
    "# ( /(   (      ( /(  \n",
    "# )\\()) ))\\ (   )\\()) \n",
    "#(_))/ /((_))\\ (_))/  \n",
    "#| |_ (_)) ((_)| |_   \n",
    "#|  _|/ -_)(_-<|  _|  \n",
    "# \\__|\\___|/__/ \\__|  \n",
    "                     \n",
    "\n",
    "#avec la police Graffiti\n",
    "#print(convertir_en_art_ascii(\"graffiti\")) \n",
    "#                      _____  _____.__  __  .__ \n",
    "#   ________________ _/ ____\\/ ____\\__|/  |_|__|\n",
    "#  / ___\\_  __ \\__  \\\\   __\\\\   __\\|  \\   __\\  |\n",
    "# / /_/  >  | \\// __ \\|  |   |  |  |  ||  | |  |\n",
    "# \\___  /|__|  (____  /__|   |__|  |__||__| |__|\n",
    "#/_____/            \\/                          \n",
    "                                               "
   ]
  },
  {
   "cell_type": "markdown",
   "metadata": {},
   "source": [
    "## Sauts de ligne en python\n",
    "\n",
    "Notre fonction <code>convertir_en_art_ascii</code> ne devra retourner qu'**une seule** chaîne de caractères <code>S_art_ascii</code>. Pour cela il apparait donc que la chaîne <code>S_art_ascii</code> devra comporter des sauts de ligne. Pour cela, en langage python on utilise le caractère <code>\\n</code>. Pour bien comprendre, exécutez et comparez les deux cellules de code ci-dessous :"
   ]
  },
  {
   "cell_type": "code",
   "execution_count": 6,
   "metadata": {},
   "outputs": [
    {
     "name": "stdout",
     "output_type": "stream",
     "text": [
      " ____  ____  ___  ____ (_  _)( ___)/ __)(_  _)  )(   )__) \\__ \\  )(   (__) (____)(___/ (__) \n"
     ]
    }
   ],
   "source": [
    "A = \" ____  ____  ___  ____ (_  _)( ___)/ __)(_  _)  )(   )__) \\__ \\  )(   (__) (____)(___/ (__) \"\n",
    "print(A)"
   ]
  },
  {
   "cell_type": "code",
   "execution_count": 5,
   "metadata": {},
   "outputs": [
    {
     "name": "stdout",
     "output_type": "stream",
     "text": [
      " ____  ____  ___  ____ \n",
      "(_  _)( ___)/ __)(_  _)\n",
      "  )(   )__) \\__ \\  )(  \n",
      " (__) (____)(___/ (__) \n",
      "\n"
     ]
    }
   ],
   "source": [
    "B = \" ____  ____  ___  ____ \\n(_  _)( ___)/ __)(_  _)\\n  )(   )__) \\__ \\  )(  \\n (__) (____)(___/ (__) \\n\"\n",
    "print(B)\n"
   ]
  },
  {
   "cell_type": "markdown",
   "metadata": {},
   "source": [
    "## Comment s'y prendre ?\n",
    "\n",
    "On base les explications en prenant pour exemple le mot de 3 caractères <code>ABC</code> avec une police sur quatre lignes de haut. On va donc avoir 3\\*4=12 \"blocs\" de caractères à insérer dans la chaîne <code>S_art_ascii</code> avec des caractères <code>\\n</code> pour en séparer certains.\n",
    "Ainsi le texte <code>ABC</code> en art-ascii suivant :\n",
    "<pre>\n",
    "xxxxxx  xxxxxx  xxxxxx  \\n\n",
    "xx  xx  xx__xx  xx      \\n\n",
    "xxxxxx  xx  xx  xx      \\n\n",
    "xx  xx  xxxxxx  xxxxxx  \\n\n",
    "</pre>\n",
    "est composé de 12 \"blocs\" :\n",
    "<pre>\n",
    "111111  555555  999999  \\n\n",
    "22  22  66__66  10      \\n\n",
    "333333  77  77  11      \\n\n",
    "44  44  888888  121212  \\n\n",
    "</pre>\n",
    "et sera généré par la chaîne de blocs suivante :\n",
    "<pre>\n",
    "111111  555555  999999  \\n22  22  66\\__66  10      \\n333333  77  77  11      \\n44  44  888888  121212  \\n\n",
    "</pre>\n",
    "c'est à dire :\n",
    "<pre>\n",
    "S_art_ascii = \"xxxxxx  xxxxxx  xxxxxx  \\nxx  xx  xx\\__xx xx      \\nxxxxxx  xx  xx  xx      \\nxx  xx  xxxxxx  xxxxxx  \\n\"\n",
    "</pre>\n",
    "<code>S_art_ascii</code> est donc constituée dans l'ordre des \"quatre lignes\" de caractères <code>xxxxxx  xxxxxx  xxxxxx  \\n</code>   ,   <code>xx  xx  xx__xx  xx      \\n</code> ,   <code>xxxxxx  xx  xx  xx      \\n</code>   et   <code>xx  xx  xxxxxx  xxxxxx  \\n</code>.\n",
    "\n",
    "\n",
    "Il est normalement évident pour vous que l'on va parcourir la chaîne de caractères passée en argument. L'analyse ci-dessus montre qu'il faudrait - lors de ce parcours - construire par accumulations successives quatre chaînes de caractères (une par ligne) puis les assembler à la fin du parcours en les séparant par <code>\\n</code>.  \n",
    "\n",
    "\n",
    "Avec l'exemple <code>ABC</code> ci-dessus, en parcourant <code>ABC</code> dans une boucle bornée on obtiendrait :  \n",
    "\n",
    "- <code>ligne_1 = \"\"</code>  \n",
    "- <code>ligne_2 = \"\"</code>  \n",
    "- <code>ligne_3 = \"\"</code>  \n",
    "- <code>ligne_4 = \"\"</code>  \n",
    "- lecture de <code>A</code>\n",
    "    - <code>ligne_1 = \"xxxxxx  \"</code>\n",
    "    - <code>ligne_2 = \"xx  xx  \"</code>\n",
    "    - <code>ligne_3 = \"xxxxxx  \"</code>\n",
    "    - <code>ligne_4 = \"xx  xx  \"</code>\n",
    "- lecture de <code>B</code>\n",
    "    - <code>ligne_1 = \"xxxxxx  xxxxxx  \"</code>\n",
    "    - <code>ligne_2 = \"xx  xx  xx__xx  \"</code>\n",
    "    - <code>ligne_3 = \"xxxxxx  xx  xx  \"</code>\n",
    "    - <code>ligne_4 = \"xx  xx  xxxxxx  \"</code>\n",
    "- lecture de <code>C</code>\n",
    "    - <code>ligne_1 = \"xxxxxx  xxxxxx  xxxxxx  \"</code>\n",
    "    - <code>ligne_2 = \"xx  xx  xx__xx  xx      \"</code>\n",
    "    - <code>ligne_3 = \"xxxxxx  xx  xx  xx      \"</code>\n",
    "    - <code>ligne_4 = \"xx  xx  xxxxxx  xxxxxx  \"</code>\n",
    "- puis on concatène les quatre lignes en les séparant par des <code>\\n</code>.\n",
    "\n",
    "On voit donc comment procéder : on peut créer quatre sous fonctions <code>bloc1</code>, <code>bloc2</code>, <code>bloc3</code> et <code>bloc4</code>qui prendront en argument un **unique** caractère et seront chargées de retourner le bloc de code de la ligne 1, 2, 3 ou 4 associée au caractère passé en argument. Avec l'exemple ci-dessus on aurait par exemple pour la 2ème ligne en partant du haut :  \n",
    "- <code>bloc2(\"A\") == \"xx  xx  \"</code>  \n",
    "- <code>bloc2(\"B\") == \"xx__xx  \"</code>\n",
    "- <code>bloc2(\"C\") == \"xx      \"</code>   \n",
    "\n",
    "Ces quatre fonctions seront chacune utilisée pour créer les quatre lignes <code>ligne_1, ligne_2, ligne_3</code> et <code>ligne_4</code>. Ces quatre lignes seront elles même utilisées dans la fonction <code>convertir_en_art_ascii</code>."
   ]
  },
  {
   "cell_type": "markdown",
   "metadata": {},
   "source": [
    "<div class=\"alert alert-info\">\n",
    "\n",
    "## À vous de jouer\n",
    "\n",
    "**On rappelle que vous devez choisir votre propre police sur le site de PAT or JK**\n",
    "\n",
    "Vous devez coder la fonction convertir_en_art_ascii qui prend en argument une chaîne de caractères et retourne cette chaîne de caractères convertie en art ascii selon un exemple de police choisie sur PAT or JK."
   ]
  }
 ],
 "metadata": {
  "kernelspec": {
   "display_name": "Python 3",
   "language": "python",
   "name": "python3"
  },
  "language_info": {
   "codemirror_mode": {
    "name": "ipython",
    "version": 3
   },
   "file_extension": ".py",
   "mimetype": "text/x-python",
   "name": "python",
   "nbconvert_exporter": "python",
   "pygments_lexer": "ipython3",
   "version": "3.6.4"
  }
 },
 "nbformat": 4,
 "nbformat_minor": 2
}
