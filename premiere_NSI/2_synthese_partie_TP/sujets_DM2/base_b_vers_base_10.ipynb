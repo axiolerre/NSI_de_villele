{
 "cells": [
  {
   "cell_type": "markdown",
   "metadata": {},
   "source": [
    "# De la représentation base b vers la représentation base 10\n",
    "\n",
    "On souhaite créer une fonction <code>rep_dec</code> qui prend en paramètres une chaîne de caractères <code>S</code> et un entier <code>b</code>. <code>S</code> représente un entier positif <code>n</code> en base <code>b</code> (avec <code>b</code> compris entre 2 et 9). On souhaite que <code>rep_dec</code> retourne la valeur de <code>n</code> en représentation décimale (base 10)."
   ]
  },
  {
   "cell_type": "markdown",
   "metadata": {},
   "source": [
    "<div class=\"alert alert-info\">\n",
    "\n",
    "**Question :**\n",
    "- Compléter la cellule ci-dessous afin d'obtenir un jeu de tests convaincant pour la fonction <code>rep_dec</code>. On pourra éventuellement aller voir des exemples de conversions dans le cours ou les exercices pour ne pas refaire des calculs."
   ]
  },
  {
   "cell_type": "code",
   "execution_count": null,
   "metadata": {},
   "outputs": [],
   "source": [
    "assert(rep_dec('11010', 2) == 26)\n",
    "assert(rep_dec('14412', 5) == 1232)\n",
    "assert(div_succ('3210', 4) == 228)\n",
    "#Votre réponse ici..."
   ]
  },
  {
   "cell_type": "markdown",
   "metadata": {},
   "source": [
    "<div class=\"alert alert-info\">\n",
    "    \n",
    "\n",
    "**Questions :**\n",
    "- Déterminer au brouillon le prototype de la fonction <code>rep_dec</code>.  \n",
    "\n",
    "\n",
    "- Déterminer au brouillon des préconditions sur les valeurs des paramètres <code>S</code> et <code>b</code>.  \n",
    "\n",
    "\n",
    "- Déterminer ci-dessous la spécification de la fonction <code>rep_dec</code>  \n",
    "*Votre réponse ici...*"
   ]
  },
  {
   "cell_type": "markdown",
   "metadata": {},
   "source": [
    "On rappelle ici un exemple de calcul pour <code>S = \"16231\"</code> et <code>b=7</code> :\n",
    "\n",
    "$ n = 1 \\times 7^4 + 6 \\times 7^3 + 2 \\times 7^2 + 3 \\times 7^1 + 1 \\times 7^0$\n",
    "\n",
    "$n$, vu comme une somme, va donc se calculer par additions successives :  \n",
    "\n",
    "$n = 0$\n",
    "\n",
    "$n = 1 \\times 7^0 = 1$  \n",
    "\n",
    "$ n = 3 \\times 7^1 + 1 = 22$  \n",
    "\n",
    "$ n = 2 \\times 7^2 + 22 = 120$  \n",
    "\n",
    "$ n = 6 \\times 7^3 + 120 = 2178$  \n",
    "\n",
    "$ n = 1 \\times 7^4 + 2178 = 4579$ \n",
    "\n",
    "On commence donc à comprendre comment procéder : on va parcourir la chaîne de caractères <code>S</code> et effectuer les calculs *nécessaires* au fur et à mesure.\n",
    "\n",
    "\n"
   ]
  },
  {
   "cell_type": "markdown",
   "metadata": {},
   "source": [
    "<div class=\"alert alert-info\">\n",
    "\n",
    "**Questions :**  \n",
    "- Il semble qu'il faille utiliser une boucle. Cette boucle est-elle bornée ou non-bornée ?   \n",
    "*Votre réponse ici...*  \n",
    "\n",
    "\n",
    "- Si cette boucle est bornée, quel ensemble peut-on parcourir ? Sinon quelle est la condition d'arrêt ?  \n",
    "*Votre réponse ici...*\n",
    "\n",
    "\n",
    "- Outre les paramètres <code>S</code> et <code>b</code>, combien de variables va-t-il falloir utiliser ?  \n",
    "*Votre réponse ici...*  \n"
   ]
  },
  {
   "cell_type": "markdown",
   "metadata": {},
   "source": [
    "<div class=\"alert alert-info\">\n",
    "\n",
    "**Question :**  \n",
    "\n",
    "- Programmer votre fonction en n'oubliant pas une docstring entre triple quotes et en n'oubliant pas non plus d'utiliser le jeu de tests.\n"
   ]
  },
  {
   "cell_type": "code",
   "execution_count": 13,
   "metadata": {},
   "outputs": [],
   "source": [
    "#Votre réponse ici"
   ]
  }
 ],
 "metadata": {
  "kernelspec": {
   "display_name": "Python 3",
   "language": "python",
   "name": "python3"
  },
  "language_info": {
   "codemirror_mode": {
    "name": "ipython",
    "version": 3
   },
   "file_extension": ".py",
   "mimetype": "text/x-python",
   "name": "python",
   "nbconvert_exporter": "python",
   "pygments_lexer": "ipython3",
   "version": "3.8.2"
  }
 },
 "nbformat": 4,
 "nbformat_minor": 2
}
