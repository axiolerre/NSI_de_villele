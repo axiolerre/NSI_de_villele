{
 "cells": [
  {
   "cell_type": "markdown",
   "metadata": {},
   "source": [
    "# Algorithme des divisions successives\n",
    "\n",
    "On souhaite créer une fonction <code>div_succ</code> qui prend en paramètres deux nombres <code>n</code> et <code>b</code> donnés en base 10 et retourne la représentation de <code>n</code> en base <code>b</code> (avec <code>b</code> compris entre 2 et 9)."
   ]
  },
  {
   "cell_type": "markdown",
   "metadata": {},
   "source": [
    "<div class=\"alert alert-info\">\n",
    "\n",
    "**Question :**\n",
    "- Compléter la cellule ci-dessous afin d'obtenir un jeu de tests convaincant pour la fonction <code>div_succ</code>. On pourra éventuellement aller voir des exemples de conversions dans le cours ou les exercices pour ne pas refaire des calculs."
   ]
  },
  {
   "cell_type": "code",
   "execution_count": 15,
   "metadata": {},
   "outputs": [],
   "source": [
    "assert(div_succ(37, 2) == '100101')\n",
    "assert(div_succ(1232, 5) == '14412')\n",
    "assert(div_succ(228, 4) == '3210')\n",
    "#Votre réponse ici..."
   ]
  },
  {
   "cell_type": "markdown",
   "metadata": {},
   "source": [
    "<div class=\"alert alert-info\">\n",
    "\n",
    "    \n",
    "**Questions :**\n",
    "- Déterminer au brouillon le prototype de la fonction <code>div_succ</code>.  \n",
    "\n",
    "\n",
    "- Déterminer au brouillon des préconditions sur les valeurs des paramètres <code>n</code> et <code>b</code>.  \n",
    "\n",
    "\n",
    "- Déterminer ci-dessous la spécification de la fonction <code>div_succ</code>  \n",
    "*Votre réponse ici...*"
   ]
  },
  {
   "cell_type": "markdown",
   "metadata": {},
   "source": [
    "On rappelle ici l'exemple d'application de l'algorithme des divisions successives donné dans le cours pour obtenir la représentation de <code>n=4579</code> en base <code>b=7</code>:\n",
    "<pre>\n",
    "4579 % 7 = 1   et   4579 // 7 = 654   et   S = \"1\"\n",
    " 654 % 7 = 3   et    654 // 7 = 93    et   S = \"31\"    \n",
    "  93 % 7 = 2   et     93 // 7 = 13    et   S = \"231\"    \n",
    "  13 % 7 = 6   et     13 // 7 = 1     et   S = \"6231\"\n",
    "   1 % 7 = 1   et      1 // 7 = 0     et   S = \"16231\"\n",
    "</pre>\n",
    "\n",
    "On rappelle aussi que lors de la division de <code>4579</code> par <code>7</code> on utilise le vocabulaire suivant :\n",
    "- <code>4579 % 7 </code> est le reste de la division euclidienne qui est ici égal à <code>1</code> (on dit aussi \"*4579 modulo 7 = 1*\") ,\n",
    "- <code>4579 // 7</code> est le quotient de la division euclidienne qui est ici égal à <code>654</code>."
   ]
  },
  {
   "cell_type": "markdown",
   "metadata": {},
   "source": [
    "<div class=\"alert alert-info\">\n",
    "\n",
    "**Questions :**  \n",
    "- Il semble qu'il faille utiliser une boucle. Cette boucle est-elle bornée ou non-bornée ?   \n",
    "*Votre réponse ici...*  \n",
    "\n",
    "\n",
    "- Si cette boucle est bornée, quel ensemble peut-on parcourir ? Sinon quelle est la condition d'arrêt ?  \n",
    "*Votre réponse ici...*\n",
    "\n",
    "\n",
    "- Outre les paramètres <code>n</code> et <code>b</code>, combien de variables va-t-on devoir manipuler ?  \n",
    "*Votre réponse ici...*  \n",
    "\n"
   ]
  },
  {
   "cell_type": "markdown",
   "metadata": {},
   "source": [
    "On rappelle que pour rajouter des caractères à une chaîne de caractères on utilise la *concaténation* qui est matérialisée par l'opérateur <code>+</code> : "
   ]
  },
  {
   "cell_type": "code",
   "execution_count": 16,
   "metadata": {},
   "outputs": [
    {
     "data": {
      "text/plain": [
       "'ABCD'"
      ]
     },
     "execution_count": 16,
     "metadata": {},
     "output_type": "execute_result"
    }
   ],
   "source": [
    "\"ABC\" + \"D\""
   ]
  },
  {
   "cell_type": "markdown",
   "metadata": {},
   "source": [
    "<div class=\"alert alert-info\">\n",
    "\n",
    "**Questions :**  \n",
    "- Programmer votre fonction en n'oubliant pas une docstring entre triple quotes et en n'oubliant pas non plus d'utiliser le jeu de tests.\n"
   ]
  },
  {
   "cell_type": "code",
   "execution_count": 13,
   "metadata": {},
   "outputs": [],
   "source": [
    "#Votre réponse ici"
   ]
  }
 ],
 "metadata": {
  "kernelspec": {
   "display_name": "Python 3",
   "language": "python",
   "name": "python3"
  },
  "language_info": {
   "codemirror_mode": {
    "name": "ipython",
    "version": 3
   },
   "file_extension": ".py",
   "mimetype": "text/x-python",
   "name": "python",
   "nbconvert_exporter": "python",
   "pygments_lexer": "ipython3",
   "version": "3.8.2"
  }
 },
 "nbformat": 4,
 "nbformat_minor": 2
}
